{
 "cells": [
  {
   "cell_type": "markdown",
   "metadata": {},
   "source": [
    "# ---- Info ----\n",
    "The following Notebook contains combined information about credit_card_balance.csv.\n",
    "## The credit_card_balance.csv description \n",
    " - Monthly balance snapshots of previous credit cards that the applicant has with Home Credit.\n",
    " - This table has one row for each month of history of every previous credit in Home Credit (consumer credit and cash loans) related to loans in our sample – i.e. the table has (#loans in sample * # of relative previous credit cards * # of months where we have some history observable for the previous credit card) rows."
   ]
  },
  {
   "cell_type": "markdown",
   "metadata": {},
   "source": [
    "### Remark 1\n",
    "I do not \"play with feature\"(create new one out of existing one) in this notebook"
   ]
  },
  {
   "cell_type": "markdown",
   "metadata": {},
   "source": [
    "### Remark 2\n",
    "Please do cell by cell and if anything is not clear ask, ask and ask me questions."
   ]
  },
  {
   "cell_type": "markdown",
   "metadata": {},
   "source": [
    "## Import necessarry libraries"
   ]
  },
  {
   "cell_type": "code",
   "execution_count": 1,
   "metadata": {},
   "outputs": [],
   "source": [
    "\n",
    "import pandas as pd\n",
    "import numpy as np\n",
    "import matplotlib.pyplot as plt\n",
    "import seaborn as sns\n",
    "import os\n",
    "%matplotlib inline\n"
   ]
  },
  {
   "cell_type": "markdown",
   "metadata": {},
   "source": [
    "## Load data\n"
   ]
  },
  {
   "cell_type": "code",
   "execution_count": 2,
   "metadata": {},
   "outputs": [],
   "source": [
    "cc_balance = pd.read_csv('../Jupyter/input/credit_card_balance.csv')\n",
    "\n"
   ]
  },
  {
   "cell_type": "code",
   "execution_count": 3,
   "metadata": {},
   "outputs": [
    {
     "name": "stdout",
     "output_type": "stream",
     "text": [
      "Shape of the data:  (3840312, 23)\n"
     ]
    }
   ],
   "source": [
    "# number of rows and columns\n",
    "print(\"Shape of the data: \",cc_balance.shape)"
   ]
  },
  {
   "cell_type": "code",
   "execution_count": 4,
   "metadata": {},
   "outputs": [
    {
     "name": "stdout",
     "output_type": "stream",
     "text": [
      "<class 'pandas.core.frame.DataFrame'>\n",
      "RangeIndex: 3840312 entries, 0 to 3840311\n",
      "Data columns (total 23 columns):\n",
      " #   Column                      Dtype  \n",
      "---  ------                      -----  \n",
      " 0   SK_ID_PREV                  int64  \n",
      " 1   SK_ID_CURR                  int64  \n",
      " 2   MONTHS_BALANCE              int64  \n",
      " 3   AMT_BALANCE                 float64\n",
      " 4   AMT_CREDIT_LIMIT_ACTUAL     int64  \n",
      " 5   AMT_DRAWINGS_ATM_CURRENT    float64\n",
      " 6   AMT_DRAWINGS_CURRENT        float64\n",
      " 7   AMT_DRAWINGS_OTHER_CURRENT  float64\n",
      " 8   AMT_DRAWINGS_POS_CURRENT    float64\n",
      " 9   AMT_INST_MIN_REGULARITY     float64\n",
      " 10  AMT_PAYMENT_CURRENT         float64\n",
      " 11  AMT_PAYMENT_TOTAL_CURRENT   float64\n",
      " 12  AMT_RECEIVABLE_PRINCIPAL    float64\n",
      " 13  AMT_RECIVABLE               float64\n",
      " 14  AMT_TOTAL_RECEIVABLE        float64\n",
      " 15  CNT_DRAWINGS_ATM_CURRENT    float64\n",
      " 16  CNT_DRAWINGS_CURRENT        int64  \n",
      " 17  CNT_DRAWINGS_OTHER_CURRENT  float64\n",
      " 18  CNT_DRAWINGS_POS_CURRENT    float64\n",
      " 19  CNT_INSTALMENT_MATURE_CUM   float64\n",
      " 20  NAME_CONTRACT_STATUS        object \n",
      " 21  SK_DPD                      int64  \n",
      " 22  SK_DPD_DEF                  int64  \n",
      "dtypes: float64(15), int64(7), object(1)\n",
      "memory usage: 673.9+ MB\n"
     ]
    }
   ],
   "source": [
    "# info about dataset\n",
    "cc_balance.info()"
   ]
  },
  {
   "cell_type": "code",
   "execution_count": 5,
   "metadata": {},
   "outputs": [
    {
     "data": {
      "text/html": [
       "<div>\n",
       "<style scoped>\n",
       "    .dataframe tbody tr th:only-of-type {\n",
       "        vertical-align: middle;\n",
       "    }\n",
       "\n",
       "    .dataframe tbody tr th {\n",
       "        vertical-align: top;\n",
       "    }\n",
       "\n",
       "    .dataframe thead th {\n",
       "        text-align: right;\n",
       "    }\n",
       "</style>\n",
       "<table border=\"1\" class=\"dataframe\">\n",
       "  <thead>\n",
       "    <tr style=\"text-align: right;\">\n",
       "      <th></th>\n",
       "      <th>SK_ID_PREV</th>\n",
       "      <th>SK_ID_CURR</th>\n",
       "      <th>MONTHS_BALANCE</th>\n",
       "      <th>AMT_BALANCE</th>\n",
       "      <th>AMT_CREDIT_LIMIT_ACTUAL</th>\n",
       "      <th>AMT_DRAWINGS_ATM_CURRENT</th>\n",
       "      <th>AMT_DRAWINGS_CURRENT</th>\n",
       "      <th>AMT_DRAWINGS_OTHER_CURRENT</th>\n",
       "      <th>AMT_DRAWINGS_POS_CURRENT</th>\n",
       "      <th>AMT_INST_MIN_REGULARITY</th>\n",
       "      <th>...</th>\n",
       "      <th>AMT_RECIVABLE</th>\n",
       "      <th>AMT_TOTAL_RECEIVABLE</th>\n",
       "      <th>CNT_DRAWINGS_ATM_CURRENT</th>\n",
       "      <th>CNT_DRAWINGS_CURRENT</th>\n",
       "      <th>CNT_DRAWINGS_OTHER_CURRENT</th>\n",
       "      <th>CNT_DRAWINGS_POS_CURRENT</th>\n",
       "      <th>CNT_INSTALMENT_MATURE_CUM</th>\n",
       "      <th>NAME_CONTRACT_STATUS</th>\n",
       "      <th>SK_DPD</th>\n",
       "      <th>SK_DPD_DEF</th>\n",
       "    </tr>\n",
       "  </thead>\n",
       "  <tbody>\n",
       "    <tr>\n",
       "      <th>0</th>\n",
       "      <td>2562384</td>\n",
       "      <td>378907</td>\n",
       "      <td>-6</td>\n",
       "      <td>56.970</td>\n",
       "      <td>135000</td>\n",
       "      <td>0.0</td>\n",
       "      <td>877.5</td>\n",
       "      <td>0.0</td>\n",
       "      <td>877.5</td>\n",
       "      <td>1700.325</td>\n",
       "      <td>...</td>\n",
       "      <td>0.000</td>\n",
       "      <td>0.000</td>\n",
       "      <td>0.0</td>\n",
       "      <td>1</td>\n",
       "      <td>0.0</td>\n",
       "      <td>1.0</td>\n",
       "      <td>35.0</td>\n",
       "      <td>Active</td>\n",
       "      <td>0</td>\n",
       "      <td>0</td>\n",
       "    </tr>\n",
       "    <tr>\n",
       "      <th>1</th>\n",
       "      <td>2582071</td>\n",
       "      <td>363914</td>\n",
       "      <td>-1</td>\n",
       "      <td>63975.555</td>\n",
       "      <td>45000</td>\n",
       "      <td>2250.0</td>\n",
       "      <td>2250.0</td>\n",
       "      <td>0.0</td>\n",
       "      <td>0.0</td>\n",
       "      <td>2250.000</td>\n",
       "      <td>...</td>\n",
       "      <td>64875.555</td>\n",
       "      <td>64875.555</td>\n",
       "      <td>1.0</td>\n",
       "      <td>1</td>\n",
       "      <td>0.0</td>\n",
       "      <td>0.0</td>\n",
       "      <td>69.0</td>\n",
       "      <td>Active</td>\n",
       "      <td>0</td>\n",
       "      <td>0</td>\n",
       "    </tr>\n",
       "    <tr>\n",
       "      <th>2</th>\n",
       "      <td>1740877</td>\n",
       "      <td>371185</td>\n",
       "      <td>-7</td>\n",
       "      <td>31815.225</td>\n",
       "      <td>450000</td>\n",
       "      <td>0.0</td>\n",
       "      <td>0.0</td>\n",
       "      <td>0.0</td>\n",
       "      <td>0.0</td>\n",
       "      <td>2250.000</td>\n",
       "      <td>...</td>\n",
       "      <td>31460.085</td>\n",
       "      <td>31460.085</td>\n",
       "      <td>0.0</td>\n",
       "      <td>0</td>\n",
       "      <td>0.0</td>\n",
       "      <td>0.0</td>\n",
       "      <td>30.0</td>\n",
       "      <td>Active</td>\n",
       "      <td>0</td>\n",
       "      <td>0</td>\n",
       "    </tr>\n",
       "    <tr>\n",
       "      <th>3</th>\n",
       "      <td>1389973</td>\n",
       "      <td>337855</td>\n",
       "      <td>-4</td>\n",
       "      <td>236572.110</td>\n",
       "      <td>225000</td>\n",
       "      <td>2250.0</td>\n",
       "      <td>2250.0</td>\n",
       "      <td>0.0</td>\n",
       "      <td>0.0</td>\n",
       "      <td>11795.760</td>\n",
       "      <td>...</td>\n",
       "      <td>233048.970</td>\n",
       "      <td>233048.970</td>\n",
       "      <td>1.0</td>\n",
       "      <td>1</td>\n",
       "      <td>0.0</td>\n",
       "      <td>0.0</td>\n",
       "      <td>10.0</td>\n",
       "      <td>Active</td>\n",
       "      <td>0</td>\n",
       "      <td>0</td>\n",
       "    </tr>\n",
       "    <tr>\n",
       "      <th>4</th>\n",
       "      <td>1891521</td>\n",
       "      <td>126868</td>\n",
       "      <td>-1</td>\n",
       "      <td>453919.455</td>\n",
       "      <td>450000</td>\n",
       "      <td>0.0</td>\n",
       "      <td>11547.0</td>\n",
       "      <td>0.0</td>\n",
       "      <td>11547.0</td>\n",
       "      <td>22924.890</td>\n",
       "      <td>...</td>\n",
       "      <td>453919.455</td>\n",
       "      <td>453919.455</td>\n",
       "      <td>0.0</td>\n",
       "      <td>1</td>\n",
       "      <td>0.0</td>\n",
       "      <td>1.0</td>\n",
       "      <td>101.0</td>\n",
       "      <td>Active</td>\n",
       "      <td>0</td>\n",
       "      <td>0</td>\n",
       "    </tr>\n",
       "  </tbody>\n",
       "</table>\n",
       "<p>5 rows × 23 columns</p>\n",
       "</div>"
      ],
      "text/plain": [
       "   SK_ID_PREV  SK_ID_CURR  MONTHS_BALANCE  AMT_BALANCE  \\\n",
       "0     2562384      378907              -6       56.970   \n",
       "1     2582071      363914              -1    63975.555   \n",
       "2     1740877      371185              -7    31815.225   \n",
       "3     1389973      337855              -4   236572.110   \n",
       "4     1891521      126868              -1   453919.455   \n",
       "\n",
       "   AMT_CREDIT_LIMIT_ACTUAL  AMT_DRAWINGS_ATM_CURRENT  AMT_DRAWINGS_CURRENT  \\\n",
       "0                   135000                       0.0                 877.5   \n",
       "1                    45000                    2250.0                2250.0   \n",
       "2                   450000                       0.0                   0.0   \n",
       "3                   225000                    2250.0                2250.0   \n",
       "4                   450000                       0.0               11547.0   \n",
       "\n",
       "   AMT_DRAWINGS_OTHER_CURRENT  AMT_DRAWINGS_POS_CURRENT  \\\n",
       "0                         0.0                     877.5   \n",
       "1                         0.0                       0.0   \n",
       "2                         0.0                       0.0   \n",
       "3                         0.0                       0.0   \n",
       "4                         0.0                   11547.0   \n",
       "\n",
       "   AMT_INST_MIN_REGULARITY  ...  AMT_RECIVABLE  AMT_TOTAL_RECEIVABLE  \\\n",
       "0                 1700.325  ...          0.000                 0.000   \n",
       "1                 2250.000  ...      64875.555             64875.555   \n",
       "2                 2250.000  ...      31460.085             31460.085   \n",
       "3                11795.760  ...     233048.970            233048.970   \n",
       "4                22924.890  ...     453919.455            453919.455   \n",
       "\n",
       "   CNT_DRAWINGS_ATM_CURRENT  CNT_DRAWINGS_CURRENT  CNT_DRAWINGS_OTHER_CURRENT  \\\n",
       "0                       0.0                     1                         0.0   \n",
       "1                       1.0                     1                         0.0   \n",
       "2                       0.0                     0                         0.0   \n",
       "3                       1.0                     1                         0.0   \n",
       "4                       0.0                     1                         0.0   \n",
       "\n",
       "   CNT_DRAWINGS_POS_CURRENT  CNT_INSTALMENT_MATURE_CUM  NAME_CONTRACT_STATUS  \\\n",
       "0                       1.0                       35.0                Active   \n",
       "1                       0.0                       69.0                Active   \n",
       "2                       0.0                       30.0                Active   \n",
       "3                       0.0                       10.0                Active   \n",
       "4                       1.0                      101.0                Active   \n",
       "\n",
       "   SK_DPD  SK_DPD_DEF  \n",
       "0       0           0  \n",
       "1       0           0  \n",
       "2       0           0  \n",
       "3       0           0  \n",
       "4       0           0  \n",
       "\n",
       "[5 rows x 23 columns]"
      ]
     },
     "execution_count": 5,
     "metadata": {},
     "output_type": "execute_result"
    }
   ],
   "source": [
    "# head of the dataset\n",
    "cc_balance.head()"
   ]
  },
  {
   "cell_type": "markdown",
   "metadata": {},
   "source": [
    "## Info\n",
    "we have only one object which is NAME_CONTRACT_STATUS. It has 7. Hence, this can be easily transfered to int by one-hot encoding"
   ]
  },
  {
   "cell_type": "code",
   "execution_count": 6,
   "metadata": {},
   "outputs": [
    {
     "data": {
      "text/plain": [
       "Active           3698436\n",
       "Completed         128918\n",
       "Signed             11058\n",
       "Demand              1365\n",
       "Sent proposal        513\n",
       "Refused               17\n",
       "Approved               5\n",
       "Name: NAME_CONTRACT_STATUS, dtype: int64"
      ]
     },
     "execution_count": 6,
     "metadata": {},
     "output_type": "execute_result"
    }
   ],
   "source": [
    "cc_balance[\"NAME_CONTRACT_STATUS\"].value_counts() "
   ]
  },
  {
   "cell_type": "code",
   "execution_count": 7,
   "metadata": {},
   "outputs": [],
   "source": [
    "#Function to calculate missing values by column\n",
    "def missing_values_table(df):\n",
    "        # Total missing values\n",
    "        mis_val = df.isnull().sum()\n",
    "        \n",
    "        # Percentage of missing values\n",
    "        mis_val_percent = 100 * df.isnull().sum() / len(df)\n",
    "        \n",
    "        # Make a table with the results\n",
    "        mis_val_table = pd.concat([mis_val, mis_val_percent], axis=1)\n",
    "        \n",
    "        # Rename the columns\n",
    "        mis_val_table_ren_columns = mis_val_table.rename(\n",
    "        columns = {0 : 'Missing Values', 1 : '% of Total Values'})\n",
    "        \n",
    "        # Sort the table by percentage of missing descending\n",
    "        mis_val_table_ren_columns = mis_val_table_ren_columns[\n",
    "            mis_val_table_ren_columns.iloc[:,1] != 0].sort_values(\n",
    "        '% of Total Values', ascending=False).round(1)\n",
    "        \n",
    "        # Print some summary information\n",
    "        print (\"Your selected dataframe has \" + str(df.shape[1]) + \" columns.\\n\"      \n",
    "            \"There are \" + str(mis_val_table_ren_columns.shape[0]) +\n",
    "              \" columns that have missing values.\")\n",
    "        \n",
    "        # Return the dataframe with missing information\n",
    "        return mis_val_table_ren_columns"
   ]
  },
  {
   "cell_type": "code",
   "execution_count": 8,
   "metadata": {},
   "outputs": [
    {
     "name": "stdout",
     "output_type": "stream",
     "text": [
      "Your selected dataframe has 23 columns.\n",
      "There are 9 columns that have missing values.\n"
     ]
    },
    {
     "data": {
      "text/html": [
       "<div>\n",
       "<style scoped>\n",
       "    .dataframe tbody tr th:only-of-type {\n",
       "        vertical-align: middle;\n",
       "    }\n",
       "\n",
       "    .dataframe tbody tr th {\n",
       "        vertical-align: top;\n",
       "    }\n",
       "\n",
       "    .dataframe thead th {\n",
       "        text-align: right;\n",
       "    }\n",
       "</style>\n",
       "<table border=\"1\" class=\"dataframe\">\n",
       "  <thead>\n",
       "    <tr style=\"text-align: right;\">\n",
       "      <th></th>\n",
       "      <th>Missing Values</th>\n",
       "      <th>% of Total Values</th>\n",
       "    </tr>\n",
       "  </thead>\n",
       "  <tbody>\n",
       "    <tr>\n",
       "      <th>AMT_PAYMENT_CURRENT</th>\n",
       "      <td>767988</td>\n",
       "      <td>20.0</td>\n",
       "    </tr>\n",
       "    <tr>\n",
       "      <th>AMT_DRAWINGS_ATM_CURRENT</th>\n",
       "      <td>749816</td>\n",
       "      <td>19.5</td>\n",
       "    </tr>\n",
       "    <tr>\n",
       "      <th>AMT_DRAWINGS_OTHER_CURRENT</th>\n",
       "      <td>749816</td>\n",
       "      <td>19.5</td>\n",
       "    </tr>\n",
       "    <tr>\n",
       "      <th>AMT_DRAWINGS_POS_CURRENT</th>\n",
       "      <td>749816</td>\n",
       "      <td>19.5</td>\n",
       "    </tr>\n",
       "    <tr>\n",
       "      <th>CNT_DRAWINGS_ATM_CURRENT</th>\n",
       "      <td>749816</td>\n",
       "      <td>19.5</td>\n",
       "    </tr>\n",
       "    <tr>\n",
       "      <th>CNT_DRAWINGS_OTHER_CURRENT</th>\n",
       "      <td>749816</td>\n",
       "      <td>19.5</td>\n",
       "    </tr>\n",
       "    <tr>\n",
       "      <th>CNT_DRAWINGS_POS_CURRENT</th>\n",
       "      <td>749816</td>\n",
       "      <td>19.5</td>\n",
       "    </tr>\n",
       "    <tr>\n",
       "      <th>AMT_INST_MIN_REGULARITY</th>\n",
       "      <td>305236</td>\n",
       "      <td>7.9</td>\n",
       "    </tr>\n",
       "    <tr>\n",
       "      <th>CNT_INSTALMENT_MATURE_CUM</th>\n",
       "      <td>305236</td>\n",
       "      <td>7.9</td>\n",
       "    </tr>\n",
       "  </tbody>\n",
       "</table>\n",
       "</div>"
      ],
      "text/plain": [
       "                            Missing Values  % of Total Values\n",
       "AMT_PAYMENT_CURRENT                 767988               20.0\n",
       "AMT_DRAWINGS_ATM_CURRENT            749816               19.5\n",
       "AMT_DRAWINGS_OTHER_CURRENT          749816               19.5\n",
       "AMT_DRAWINGS_POS_CURRENT            749816               19.5\n",
       "CNT_DRAWINGS_ATM_CURRENT            749816               19.5\n",
       "CNT_DRAWINGS_OTHER_CURRENT          749816               19.5\n",
       "CNT_DRAWINGS_POS_CURRENT            749816               19.5\n",
       "AMT_INST_MIN_REGULARITY             305236                7.9\n",
       "CNT_INSTALMENT_MATURE_CUM           305236                7.9"
      ]
     },
     "execution_count": 8,
     "metadata": {},
     "output_type": "execute_result"
    }
   ],
   "source": [
    "missing_values_table(cc_balance)"
   ]
  },
  {
   "cell_type": "code",
   "execution_count": 9,
   "metadata": {},
   "outputs": [
    {
     "data": {
      "text/plain": [
       "NAME_CONTRACT_STATUS    7\n",
       "dtype: int64"
      ]
     },
     "execution_count": 9,
     "metadata": {},
     "output_type": "execute_result"
    }
   ],
   "source": [
    "#number of unique classes in each object column\n",
    "cc_balance.select_dtypes('object').apply(pd.Series.nunique, axis = 0)"
   ]
  },
  {
   "cell_type": "code",
   "execution_count": 10,
   "metadata": {},
   "outputs": [
    {
     "name": "stdout",
     "output_type": "stream",
     "text": [
      "Shape of the data:  (3840312, 29)\n"
     ]
    }
   ],
   "source": [
    "cc_balance = pd.get_dummies(cc_balance)\n",
    "\n",
    "print(\"Shape of the data: \",cc_balance.shape)"
   ]
  },
  {
   "cell_type": "code",
   "execution_count": 11,
   "metadata": {},
   "outputs": [
    {
     "name": "stdout",
     "output_type": "stream",
     "text": [
      "Your selected dataframe has 29 columns.\n",
      "There are 9 columns that have missing values.\n"
     ]
    },
    {
     "data": {
      "text/html": [
       "<div>\n",
       "<style scoped>\n",
       "    .dataframe tbody tr th:only-of-type {\n",
       "        vertical-align: middle;\n",
       "    }\n",
       "\n",
       "    .dataframe tbody tr th {\n",
       "        vertical-align: top;\n",
       "    }\n",
       "\n",
       "    .dataframe thead th {\n",
       "        text-align: right;\n",
       "    }\n",
       "</style>\n",
       "<table border=\"1\" class=\"dataframe\">\n",
       "  <thead>\n",
       "    <tr style=\"text-align: right;\">\n",
       "      <th></th>\n",
       "      <th>Missing Values</th>\n",
       "      <th>% of Total Values</th>\n",
       "    </tr>\n",
       "  </thead>\n",
       "  <tbody>\n",
       "    <tr>\n",
       "      <th>AMT_PAYMENT_CURRENT</th>\n",
       "      <td>767988</td>\n",
       "      <td>20.0</td>\n",
       "    </tr>\n",
       "    <tr>\n",
       "      <th>AMT_DRAWINGS_ATM_CURRENT</th>\n",
       "      <td>749816</td>\n",
       "      <td>19.5</td>\n",
       "    </tr>\n",
       "    <tr>\n",
       "      <th>AMT_DRAWINGS_OTHER_CURRENT</th>\n",
       "      <td>749816</td>\n",
       "      <td>19.5</td>\n",
       "    </tr>\n",
       "    <tr>\n",
       "      <th>AMT_DRAWINGS_POS_CURRENT</th>\n",
       "      <td>749816</td>\n",
       "      <td>19.5</td>\n",
       "    </tr>\n",
       "    <tr>\n",
       "      <th>CNT_DRAWINGS_ATM_CURRENT</th>\n",
       "      <td>749816</td>\n",
       "      <td>19.5</td>\n",
       "    </tr>\n",
       "    <tr>\n",
       "      <th>CNT_DRAWINGS_OTHER_CURRENT</th>\n",
       "      <td>749816</td>\n",
       "      <td>19.5</td>\n",
       "    </tr>\n",
       "    <tr>\n",
       "      <th>CNT_DRAWINGS_POS_CURRENT</th>\n",
       "      <td>749816</td>\n",
       "      <td>19.5</td>\n",
       "    </tr>\n",
       "    <tr>\n",
       "      <th>AMT_INST_MIN_REGULARITY</th>\n",
       "      <td>305236</td>\n",
       "      <td>7.9</td>\n",
       "    </tr>\n",
       "    <tr>\n",
       "      <th>CNT_INSTALMENT_MATURE_CUM</th>\n",
       "      <td>305236</td>\n",
       "      <td>7.9</td>\n",
       "    </tr>\n",
       "  </tbody>\n",
       "</table>\n",
       "</div>"
      ],
      "text/plain": [
       "                            Missing Values  % of Total Values\n",
       "AMT_PAYMENT_CURRENT                 767988               20.0\n",
       "AMT_DRAWINGS_ATM_CURRENT            749816               19.5\n",
       "AMT_DRAWINGS_OTHER_CURRENT          749816               19.5\n",
       "AMT_DRAWINGS_POS_CURRENT            749816               19.5\n",
       "CNT_DRAWINGS_ATM_CURRENT            749816               19.5\n",
       "CNT_DRAWINGS_OTHER_CURRENT          749816               19.5\n",
       "CNT_DRAWINGS_POS_CURRENT            749816               19.5\n",
       "AMT_INST_MIN_REGULARITY             305236                7.9\n",
       "CNT_INSTALMENT_MATURE_CUM           305236                7.9"
      ]
     },
     "execution_count": 11,
     "metadata": {},
     "output_type": "execute_result"
    }
   ],
   "source": [
    "missing_values_table(cc_balance)\n"
   ]
  },
  {
   "cell_type": "markdown",
   "metadata": {},
   "source": [
    "## show how many values are missing(tbh done above)"
   ]
  },
  {
   "cell_type": "code",
   "execution_count": 12,
   "metadata": {},
   "outputs": [
    {
     "data": {
      "text/plain": [
       "SK_ID_PREV                                 0\n",
       "SK_ID_CURR                                 0\n",
       "MONTHS_BALANCE                             0\n",
       "AMT_BALANCE                                0\n",
       "AMT_CREDIT_LIMIT_ACTUAL                    0\n",
       "AMT_DRAWINGS_ATM_CURRENT              749816\n",
       "AMT_DRAWINGS_CURRENT                       0\n",
       "AMT_DRAWINGS_OTHER_CURRENT            749816\n",
       "AMT_DRAWINGS_POS_CURRENT              749816\n",
       "AMT_INST_MIN_REGULARITY               305236\n",
       "AMT_PAYMENT_CURRENT                   767988\n",
       "AMT_PAYMENT_TOTAL_CURRENT                  0\n",
       "AMT_RECEIVABLE_PRINCIPAL                   0\n",
       "AMT_RECIVABLE                              0\n",
       "AMT_TOTAL_RECEIVABLE                       0\n",
       "CNT_DRAWINGS_ATM_CURRENT              749816\n",
       "CNT_DRAWINGS_CURRENT                       0\n",
       "CNT_DRAWINGS_OTHER_CURRENT            749816\n",
       "CNT_DRAWINGS_POS_CURRENT              749816\n",
       "CNT_INSTALMENT_MATURE_CUM             305236\n",
       "SK_DPD                                     0\n",
       "SK_DPD_DEF                                 0\n",
       "NAME_CONTRACT_STATUS_Active                0\n",
       "NAME_CONTRACT_STATUS_Approved              0\n",
       "NAME_CONTRACT_STATUS_Completed             0\n",
       "NAME_CONTRACT_STATUS_Demand                0\n",
       "NAME_CONTRACT_STATUS_Refused               0\n",
       "NAME_CONTRACT_STATUS_Sent proposal         0\n",
       "NAME_CONTRACT_STATUS_Signed                0\n",
       "dtype: int64"
      ]
     },
     "execution_count": 12,
     "metadata": {},
     "output_type": "execute_result"
    }
   ],
   "source": [
    "cc_balance.isnull().sum()\n"
   ]
  },
  {
   "cell_type": "code",
   "execution_count": 13,
   "metadata": {},
   "outputs": [],
   "source": [
    "values_missing = cc_balance[['AMT_DRAWINGS_ATM_CURRENT', 'AMT_DRAWINGS_OTHER_CURRENT','AMT_DRAWINGS_POS_CURRENT','CNT_DRAWINGS_ATM_CURRENT','CNT_DRAWINGS_POS_CURRENT']]"
   ]
  },
  {
   "cell_type": "code",
   "execution_count": 14,
   "metadata": {},
   "outputs": [
    {
     "data": {
      "text/html": [
       "<div>\n",
       "<style scoped>\n",
       "    .dataframe tbody tr th:only-of-type {\n",
       "        vertical-align: middle;\n",
       "    }\n",
       "\n",
       "    .dataframe tbody tr th {\n",
       "        vertical-align: top;\n",
       "    }\n",
       "\n",
       "    .dataframe thead th {\n",
       "        text-align: right;\n",
       "    }\n",
       "</style>\n",
       "<table border=\"1\" class=\"dataframe\">\n",
       "  <thead>\n",
       "    <tr style=\"text-align: right;\">\n",
       "      <th></th>\n",
       "      <th>AMT_DRAWINGS_ATM_CURRENT</th>\n",
       "      <th>AMT_DRAWINGS_OTHER_CURRENT</th>\n",
       "      <th>AMT_DRAWINGS_POS_CURRENT</th>\n",
       "      <th>CNT_DRAWINGS_ATM_CURRENT</th>\n",
       "      <th>CNT_DRAWINGS_POS_CURRENT</th>\n",
       "    </tr>\n",
       "  </thead>\n",
       "  <tbody>\n",
       "    <tr>\n",
       "      <th>45</th>\n",
       "      <td>NaN</td>\n",
       "      <td>NaN</td>\n",
       "      <td>NaN</td>\n",
       "      <td>NaN</td>\n",
       "      <td>NaN</td>\n",
       "    </tr>\n",
       "    <tr>\n",
       "      <th>47</th>\n",
       "      <td>NaN</td>\n",
       "      <td>NaN</td>\n",
       "      <td>NaN</td>\n",
       "      <td>NaN</td>\n",
       "      <td>NaN</td>\n",
       "    </tr>\n",
       "    <tr>\n",
       "      <th>49</th>\n",
       "      <td>NaN</td>\n",
       "      <td>NaN</td>\n",
       "      <td>NaN</td>\n",
       "      <td>NaN</td>\n",
       "      <td>NaN</td>\n",
       "    </tr>\n",
       "    <tr>\n",
       "      <th>52</th>\n",
       "      <td>NaN</td>\n",
       "      <td>NaN</td>\n",
       "      <td>NaN</td>\n",
       "      <td>NaN</td>\n",
       "      <td>NaN</td>\n",
       "    </tr>\n",
       "    <tr>\n",
       "      <th>60</th>\n",
       "      <td>NaN</td>\n",
       "      <td>NaN</td>\n",
       "      <td>NaN</td>\n",
       "      <td>NaN</td>\n",
       "      <td>NaN</td>\n",
       "    </tr>\n",
       "    <tr>\n",
       "      <th>...</th>\n",
       "      <td>...</td>\n",
       "      <td>...</td>\n",
       "      <td>...</td>\n",
       "      <td>...</td>\n",
       "      <td>...</td>\n",
       "    </tr>\n",
       "    <tr>\n",
       "      <th>3840272</th>\n",
       "      <td>NaN</td>\n",
       "      <td>NaN</td>\n",
       "      <td>NaN</td>\n",
       "      <td>NaN</td>\n",
       "      <td>NaN</td>\n",
       "    </tr>\n",
       "    <tr>\n",
       "      <th>3840303</th>\n",
       "      <td>NaN</td>\n",
       "      <td>NaN</td>\n",
       "      <td>NaN</td>\n",
       "      <td>NaN</td>\n",
       "      <td>NaN</td>\n",
       "    </tr>\n",
       "    <tr>\n",
       "      <th>3840306</th>\n",
       "      <td>NaN</td>\n",
       "      <td>NaN</td>\n",
       "      <td>NaN</td>\n",
       "      <td>NaN</td>\n",
       "      <td>NaN</td>\n",
       "    </tr>\n",
       "    <tr>\n",
       "      <th>3840307</th>\n",
       "      <td>NaN</td>\n",
       "      <td>NaN</td>\n",
       "      <td>NaN</td>\n",
       "      <td>NaN</td>\n",
       "      <td>NaN</td>\n",
       "    </tr>\n",
       "    <tr>\n",
       "      <th>3840310</th>\n",
       "      <td>NaN</td>\n",
       "      <td>NaN</td>\n",
       "      <td>NaN</td>\n",
       "      <td>NaN</td>\n",
       "      <td>NaN</td>\n",
       "    </tr>\n",
       "  </tbody>\n",
       "</table>\n",
       "<p>749816 rows × 5 columns</p>\n",
       "</div>"
      ],
      "text/plain": [
       "         AMT_DRAWINGS_ATM_CURRENT  AMT_DRAWINGS_OTHER_CURRENT  \\\n",
       "45                            NaN                         NaN   \n",
       "47                            NaN                         NaN   \n",
       "49                            NaN                         NaN   \n",
       "52                            NaN                         NaN   \n",
       "60                            NaN                         NaN   \n",
       "...                           ...                         ...   \n",
       "3840272                       NaN                         NaN   \n",
       "3840303                       NaN                         NaN   \n",
       "3840306                       NaN                         NaN   \n",
       "3840307                       NaN                         NaN   \n",
       "3840310                       NaN                         NaN   \n",
       "\n",
       "         AMT_DRAWINGS_POS_CURRENT  CNT_DRAWINGS_ATM_CURRENT  \\\n",
       "45                            NaN                       NaN   \n",
       "47                            NaN                       NaN   \n",
       "49                            NaN                       NaN   \n",
       "52                            NaN                       NaN   \n",
       "60                            NaN                       NaN   \n",
       "...                           ...                       ...   \n",
       "3840272                       NaN                       NaN   \n",
       "3840303                       NaN                       NaN   \n",
       "3840306                       NaN                       NaN   \n",
       "3840307                       NaN                       NaN   \n",
       "3840310                       NaN                       NaN   \n",
       "\n",
       "         CNT_DRAWINGS_POS_CURRENT  \n",
       "45                            NaN  \n",
       "47                            NaN  \n",
       "49                            NaN  \n",
       "52                            NaN  \n",
       "60                            NaN  \n",
       "...                           ...  \n",
       "3840272                       NaN  \n",
       "3840303                       NaN  \n",
       "3840306                       NaN  \n",
       "3840307                       NaN  \n",
       "3840310                       NaN  \n",
       "\n",
       "[749816 rows x 5 columns]"
      ]
     },
     "execution_count": 14,
     "metadata": {},
     "output_type": "execute_result"
    }
   ],
   "source": [
    "values_missing[values_missing['AMT_DRAWINGS_ATM_CURRENT'].isna()]\n"
   ]
  },
  {
   "cell_type": "markdown",
   "metadata": {},
   "source": [
    "# IMPORTANT\n",
    "if you do next cell you will have to fill median only for CNT_INSTALMENT_MATURE_CUM and AMT_INST_MIN_REGULARITY.\n",
    "Other columns are deleted, hence should be skipped.\n"
   ]
  },
  {
   "cell_type": "code",
   "execution_count": 18,
   "metadata": {},
   "outputs": [
    {
     "data": {
      "text/plain": [
       "Index(['SK_ID_PREV', 'SK_ID_CURR', 'MONTHS_BALANCE', 'AMT_BALANCE',\n",
       "       'AMT_CREDIT_LIMIT_ACTUAL', 'AMT_DRAWINGS_CURRENT',\n",
       "       'AMT_INST_MIN_REGULARITY', 'AMT_PAYMENT_TOTAL_CURRENT',\n",
       "       'AMT_RECEIVABLE_PRINCIPAL', 'AMT_RECIVABLE', 'AMT_TOTAL_RECEIVABLE',\n",
       "       'CNT_DRAWINGS_CURRENT', 'CNT_INSTALMENT_MATURE_CUM', 'SK_DPD',\n",
       "       'SK_DPD_DEF', 'NAME_CONTRACT_STATUS_Active',\n",
       "       'NAME_CONTRACT_STATUS_Approved', 'NAME_CONTRACT_STATUS_Completed',\n",
       "       'NAME_CONTRACT_STATUS_Demand', 'NAME_CONTRACT_STATUS_Refused',\n",
       "       'NAME_CONTRACT_STATUS_Sent proposal', 'NAME_CONTRACT_STATUS_Signed'],\n",
       "      dtype='object')"
      ]
     },
     "execution_count": 18,
     "metadata": {},
     "output_type": "execute_result"
    }
   ],
   "source": [
    "cc_balance.columns[cc_balance.isnull().mean() < 0.10]\n"
   ]
  },
  {
   "cell_type": "code",
   "execution_count": 16,
   "metadata": {},
   "outputs": [
    {
     "data": {
      "image/png": "[encoded data removed]",
      "text/plain": [
       "<Figure size 432x288 with 1 Axes>"
      ]
     },
     "metadata": {
      "needs_background": "light"
     },
     "output_type": "display_data"
    }
   ],
   "source": [
    "cc_balance['AMT_DRAWINGS_ATM_CURRENT'].plot.hist(title=\"AMT_DRAWINGS_ATM_CURRENT Histogram\");\n",
    "plt.xlabel('AMT_DRAWINGS_ATM_CURRENT');\n",
    "\n",
    "median_1=cc_balance['AMT_DRAWINGS_ATM_CURRENT'].median()\n",
    "median_1\n",
    "cc_balance['AMT_DRAWINGS_ATM_CURRENT'].replace(np.nan,median_1,inplace=True)\n",
    "\n"
   ]
  },
  {
   "cell_type": "code",
   "execution_count": 17,
   "metadata": {},
   "outputs": [
    {
     "data": {
      "image/png": "[encoded data removed]",
      "text/plain": [
       "<Figure size 432x288 with 1 Axes>"
      ]
     },
     "metadata": {
      "needs_background": "light"
     },
     "output_type": "display_data"
    }
   ],
   "source": [
    "cc_balance['AMT_DRAWINGS_OTHER_CURRENT'].plot.hist(title=\"AMT_DRAWINGS_OTHER_CURRENT Histogram\");\n",
    "plt.xlabel('AMT_DRAWINGS_OTHER_CURRENT');\n",
    "\n",
    "median_2=cc_balance['AMT_DRAWINGS_OTHER_CURRENT'].median()\n",
    "median_2\n",
    "\n",
    "cc_balance['AMT_DRAWINGS_OTHER_CURRENT'].replace(np.nan,median_2,inplace=True)\n"
   ]
  },
  {
   "cell_type": "code",
   "execution_count": 18,
   "metadata": {},
   "outputs": [
    {
     "data": {
      "image/png": "[encoded data removed]",
      "text/plain": [
       "<Figure size 432x288 with 1 Axes>"
      ]
     },
     "metadata": {
      "needs_background": "light"
     },
     "output_type": "display_data"
    }
   ],
   "source": [
    "cc_balance['AMT_DRAWINGS_POS_CURRENT'].plot.hist(title='AMT_DRAWINGS_POS_CURRENT');\n",
    "plt.xlabel('AMT_DRAWINGS_POS_CURRENT');\n",
    "\n",
    "median_3=cc_balance['AMT_DRAWINGS_POS_CURRENT'].median()\n",
    "median_3\n",
    "cc_balance['AMT_DRAWINGS_POS_CURRENT'].replace(np.nan,median_3,inplace=True)\n"
   ]
  },
  {
   "cell_type": "code",
   "execution_count": 19,
   "metadata": {},
   "outputs": [
    {
     "data": {
      "image/png": "[encoded data removed]",
      "text/plain": [
       "<Figure size 432x288 with 1 Axes>"
      ]
     },
     "metadata": {
      "needs_background": "light"
     },
     "output_type": "display_data"
    }
   ],
   "source": [
    "cc_balance['CNT_DRAWINGS_ATM_CURRENT'].plot.hist(title='CNT_DRAWINGS_ATM_CURRENT Histogram');\n",
    "plt.xlabel('CNT_DRAWINGS_ATM_CURRENT');\n",
    "\n",
    "median_4=cc_balance['CNT_DRAWINGS_ATM_CURRENT'].median()\n",
    "median_4\n",
    "cc_balance['CNT_DRAWINGS_ATM_CURRENT'].replace(np.nan,median_4,inplace=True)\n"
   ]
  },
  {
   "cell_type": "code",
   "execution_count": 20,
   "metadata": {},
   "outputs": [
    {
     "data": {
      "image/png": "[encoded data removed]",
      "text/plain": [
       "<Figure size 432x288 with 1 Axes>"
      ]
     },
     "metadata": {
      "needs_background": "light"
     },
     "output_type": "display_data"
    }
   ],
   "source": [
    "cc_balance['CNT_DRAWINGS_POS_CURRENT'].plot.hist(title='CNT_DRAWINGS_POS_CURRENT Histogram',range=[0,20]);\n",
    "plt.xlabel('CNT_DRAWINGS_POS_CURRENT');\n",
    "cc_balance['CNT_DRAWINGS_POS_CURRENT'].value_counts()\n",
    "# since we have so outliers i will use median \n",
    "median_5=cc_balance['CNT_DRAWINGS_POS_CURRENT'].median()\n",
    "median_5\n",
    "cc_balance['CNT_DRAWINGS_POS_CURRENT'].replace(np.nan,median_5,inplace=True)\n"
   ]
  },
  {
   "cell_type": "code",
   "execution_count": 21,
   "metadata": {},
   "outputs": [
    {
     "name": "stdout",
     "output_type": "stream",
     "text": [
      "0\n"
     ]
    }
   ],
   "source": [
    "#Check duplicates\n",
    "duplicate = cc_balance.duplicated()\n",
    "print(duplicate.sum())\n"
   ]
  },
  {
   "cell_type": "code",
   "execution_count": 22,
   "metadata": {},
   "outputs": [
    {
     "data": {
      "image/png": "[encoded data removed]",
      "text/plain": [
       "<Figure size 432x288 with 1 Axes>"
      ]
     },
     "metadata": {
      "needs_background": "light"
     },
     "output_type": "display_data"
    }
   ],
   "source": [
    "cc_balance['AMT_INST_MIN_REGULARITY'].plot.hist(title='AMT_INST_MIN_REGULARITY Histogram',range=[0,20]);\n",
    "plt.xlabel('AMT_INST_MIN_REGULARITY'); \n",
    "median_6=cc_balance['AMT_INST_MIN_REGULARITY'].median()\n",
    "median_6\n",
    "cc_balance['AMT_INST_MIN_REGULARITY'].replace(np.nan,median_6,inplace=True)\n"
   ]
  },
  {
   "cell_type": "code",
   "execution_count": 23,
   "metadata": {},
   "outputs": [
    {
     "data": {
      "image/png": "[encoded data removed]",
      "text/plain": [
       "<Figure size 432x288 with 1 Axes>"
      ]
     },
     "metadata": {
      "needs_background": "light"
     },
     "output_type": "display_data"
    }
   ],
   "source": [
    "cc_balance['CNT_INSTALMENT_MATURE_CUM'].plot.hist(title='CNT_INSTALMENT_MATURE_CUM Histogram');\n",
    "plt.xlabel('CNT_INSTALMENT_MATURE_CUM'); \n",
    "median_7=cc_balance['CNT_INSTALMENT_MATURE_CUM'].median()\n",
    "median_7\n",
    "cc_balance['AMT_INST_MIN_REGULARITY'].replace(np.nan,median_7,inplace=True)\n"
   ]
  },
  {
   "cell_type": "code",
   "execution_count": 24,
   "metadata": {},
   "outputs": [
    {
     "data": {
      "image/png": "[encoded data removed]",
      "text/plain": [
       "<Figure size 432x288 with 1 Axes>"
      ]
     },
     "metadata": {
      "needs_background": "light"
     },
     "output_type": "display_data"
    }
   ],
   "source": [
    "cc_balance['AMT_PAYMENT_CURRENT'].plot.hist(title='AMT_PAYMENT_CURRENT Histogram',range=[0,1*10^6]);\n",
    "plt.xlabel('AMT_PAYMENT_CURRENT'); \n",
    "median_8=cc_balance['AMT_PAYMENT_CURRENT'].median()\n",
    "\n",
    "median_8\n",
    "cc_balance['AMT_PAYMENT_CURRENT'].replace(np.nan,median_8,inplace=True)\n"
   ]
  },
  {
   "cell_type": "code",
   "execution_count": 25,
   "metadata": {},
   "outputs": [
    {
     "data": {
      "image/png": "[encoded data removed]",
      "text/plain": [
       "<Figure size 432x288 with 1 Axes>"
      ]
     },
     "metadata": {
      "needs_background": "light"
     },
     "output_type": "display_data"
    }
   ],
   "source": [
    "cc_balance['CNT_DRAWINGS_OTHER_CURRENT'].plot.hist(title=\"CNT_DRAWINGS_OTHER_CURRENT Histogram\");\n",
    "plt.xlabel('CNT_DRAWINGS_OTHER_CURRENT');\n",
    "\n",
    "median_9=cc_balance['CNT_DRAWINGS_OTHER_CURRENT'].median()\n",
    "median_9\n",
    "cc_balance['CNT_DRAWINGS_OTHER_CURRENT'].replace(np.nan,median_9,inplace=True)\n",
    "\n",
    "\n",
    "\n"
   ]
  },
  {
   "cell_type": "code",
   "execution_count": 26,
   "metadata": {},
   "outputs": [
    {
     "data": {
      "image/png": "[encoded data removed]",
      "text/plain": [
       "<Figure size 432x288 with 1 Axes>"
      ]
     },
     "metadata": {
      "needs_background": "light"
     },
     "output_type": "display_data"
    }
   ],
   "source": [
    "cc_balance['CNT_INSTALMENT_MATURE_CUM'].plot.hist(title=\"CNT_INSTALMENT_MATURE_CUM Histogram\");\n",
    "plt.xlabel('CNT_INSTALMENT_MATURE_CUM');\n",
    "\n",
    "median_10=cc_balance['CNT_INSTALMENT_MATURE_CUM'].median()\n",
    "median_10\n",
    "cc_balance['CNT_INSTALMENT_MATURE_CUM'].replace(np.nan,median_10,inplace=True)\n"
   ]
  },
  {
   "cell_type": "code",
   "execution_count": 27,
   "metadata": {},
   "outputs": [],
   "source": [
    "# test = cc_balance.copy()\n",
    "# test[\"AMT_PAYMENT_CURRENT\"].replace(np.nan,median_8,inplace=True)"
   ]
  },
  {
   "cell_type": "code",
   "execution_count": 28,
   "metadata": {},
   "outputs": [],
   "source": [
    "# test['AMT_PAYMENT_CURRENT'].plot.hist(title='AMT_PAYMENT_CURRENT Histogram',range=[0,1*10^6]);\n",
    "# plt.xlabel('AMT_PAYMENT_CURRENT'); \n",
    "# median_8=test['AMT_PAYMENT_CURRENT'].median()\n",
    "# print(median_8)"
   ]
  },
  {
   "cell_type": "code",
   "execution_count": 29,
   "metadata": {},
   "outputs": [
    {
     "name": "stdout",
     "output_type": "stream",
     "text": [
      "0.0\n",
      "0.0\n",
      "0.0\n",
      "0.0\n",
      "0.0\n",
      "0.0\n",
      "15.0\n",
      "2702.7\n",
      "0.0\n",
      "15.0\n"
     ]
    }
   ],
   "source": [
    "print(median_1)\n",
    "print(median_2)\n",
    "print(median_3)\n",
    "print(median_4)\n",
    "print(median_5)\n",
    "print(median_6)\n",
    "print(median_7)\n",
    "print(median_8)\n",
    "print(median_9)\n",
    "print(median_10)\n",
    "\n",
    "\n",
    "#missing_values_table(cc_balance)\n",
    "# app_train['TARGET']= df2['TARGE']"
   ]
  },
  {
   "cell_type": "code",
   "execution_count": 20,
   "metadata": {},
   "outputs": [
    {
     "data": {
      "text/plain": [
       "(307511, 122)"
      ]
     },
     "execution_count": 20,
     "metadata": {},
     "output_type": "execute_result"
    }
   ],
   "source": [
    "df1 = pd.read_csv('../Jupyter/input/application_train.csv')\n",
    "df1.shape"
   ]
  },
  {
   "cell_type": "code",
   "execution_count": 21,
   "metadata": {},
   "outputs": [],
   "source": [
    "cc_balance['TARGET']=df1['TARGET']"
   ]
  },
  {
   "cell_type": "code",
   "execution_count": 1,
   "metadata": {},
   "outputs": [
    {
     "data": {
      "text/plain": [
       "3532801"
      ]
     },
     "execution_count": 1,
     "metadata": {},
     "output_type": "execute_result"
    }
   ],
   "source": [
    "# cc_balance.isnull().sum()\n",
    "3840312-307511\n"
   ]
  },
  {
   "cell_type": "code",
   "execution_count": 33,
   "metadata": {},
   "outputs": [
    {
     "data": {
      "text/plain": [
       "SK_ID_PREV                                  0\n",
       "SK_ID_CURR                                  0\n",
       "MONTHS_BALANCE                              0\n",
       "AMT_BALANCE                                 0\n",
       "AMT_CREDIT_LIMIT_ACTUAL                     0\n",
       "AMT_DRAWINGS_ATM_CURRENT                    0\n",
       "AMT_DRAWINGS_CURRENT                        0\n",
       "AMT_DRAWINGS_OTHER_CURRENT                  0\n",
       "AMT_DRAWINGS_POS_CURRENT                    0\n",
       "AMT_INST_MIN_REGULARITY                     0\n",
       "AMT_PAYMENT_CURRENT                         0\n",
       "AMT_PAYMENT_TOTAL_CURRENT                   0\n",
       "AMT_RECEIVABLE_PRINCIPAL                    0\n",
       "AMT_RECIVABLE                               0\n",
       "AMT_TOTAL_RECEIVABLE                        0\n",
       "CNT_DRAWINGS_ATM_CURRENT                    0\n",
       "CNT_DRAWINGS_CURRENT                        0\n",
       "CNT_DRAWINGS_OTHER_CURRENT                  0\n",
       "CNT_DRAWINGS_POS_CURRENT                    0\n",
       "CNT_INSTALMENT_MATURE_CUM                   0\n",
       "SK_DPD                                      0\n",
       "SK_DPD_DEF                                  0\n",
       "NAME_CONTRACT_STATUS_Active                 0\n",
       "NAME_CONTRACT_STATUS_Approved               0\n",
       "NAME_CONTRACT_STATUS_Completed              0\n",
       "NAME_CONTRACT_STATUS_Demand                 0\n",
       "NAME_CONTRACT_STATUS_Refused                0\n",
       "NAME_CONTRACT_STATUS_Sent proposal          0\n",
       "NAME_CONTRACT_STATUS_Signed                 0\n",
       "TARGET                                3532801\n",
       "dtype: int64"
      ]
     },
     "execution_count": 33,
     "metadata": {},
     "output_type": "execute_result"
    }
   ],
   "source": [
    "cc_balance.isnull().sum()"
   ]
  },
  {
   "cell_type": "code",
   "execution_count": 22,
   "metadata": {},
   "outputs": [],
   "source": [
    "cc_balance = cc_balance[cc_balance['TARGET'].notna()]\n"
   ]
  },
  {
   "cell_type": "code",
   "execution_count": 35,
   "metadata": {},
   "outputs": [
    {
     "data": {
      "text/plain": [
       "SK_ID_PREV                            0\n",
       "SK_ID_CURR                            0\n",
       "MONTHS_BALANCE                        0\n",
       "AMT_BALANCE                           0\n",
       "AMT_CREDIT_LIMIT_ACTUAL               0\n",
       "AMT_DRAWINGS_ATM_CURRENT              0\n",
       "AMT_DRAWINGS_CURRENT                  0\n",
       "AMT_DRAWINGS_OTHER_CURRENT            0\n",
       "AMT_DRAWINGS_POS_CURRENT              0\n",
       "AMT_INST_MIN_REGULARITY               0\n",
       "AMT_PAYMENT_CURRENT                   0\n",
       "AMT_PAYMENT_TOTAL_CURRENT             0\n",
       "AMT_RECEIVABLE_PRINCIPAL              0\n",
       "AMT_RECIVABLE                         0\n",
       "AMT_TOTAL_RECEIVABLE                  0\n",
       "CNT_DRAWINGS_ATM_CURRENT              0\n",
       "CNT_DRAWINGS_CURRENT                  0\n",
       "CNT_DRAWINGS_OTHER_CURRENT            0\n",
       "CNT_DRAWINGS_POS_CURRENT              0\n",
       "CNT_INSTALMENT_MATURE_CUM             0\n",
       "SK_DPD                                0\n",
       "SK_DPD_DEF                            0\n",
       "NAME_CONTRACT_STATUS_Active           0\n",
       "NAME_CONTRACT_STATUS_Approved         0\n",
       "NAME_CONTRACT_STATUS_Completed        0\n",
       "NAME_CONTRACT_STATUS_Demand           0\n",
       "NAME_CONTRACT_STATUS_Refused          0\n",
       "NAME_CONTRACT_STATUS_Sent proposal    0\n",
       "NAME_CONTRACT_STATUS_Signed           0\n",
       "TARGET                                0\n",
       "dtype: int64"
      ]
     },
     "execution_count": 35,
     "metadata": {},
     "output_type": "execute_result"
    }
   ],
   "source": [
    "cc_balance.isnull().sum()\n"
   ]
  },
  {
   "cell_type": "code",
   "execution_count": 23,
   "metadata": {},
   "outputs": [
    {
     "name": "stdout",
     "output_type": "stream",
     "text": [
      "Most Positive Correlations:\n",
      " SK_DPD                            0.000092\n",
      "NAME_CONTRACT_STATUS_Completed    0.000272\n",
      "AMT_RECEIVABLE_PRINCIPAL          0.000383\n",
      "AMT_TOTAL_RECEIVABLE              0.000407\n",
      "AMT_RECIVABLE                     0.000412\n",
      "SK_ID_PREV                        0.000446\n",
      "AMT_BALANCE                       0.000448\n",
      "AMT_CREDIT_LIMIT_ACTUAL           0.000515\n",
      "SK_ID_CURR                        0.001086\n",
      "AMT_INST_MIN_REGULARITY           0.001435\n",
      "AMT_DRAWINGS_ATM_CURRENT          0.001520\n",
      "CNT_DRAWINGS_ATM_CURRENT          0.001908\n",
      "NAME_CONTRACT_STATUS_Signed       0.003493\n",
      "TARGET                            1.000000\n",
      "NAME_CONTRACT_STATUS_Approved          NaN\n",
      "Name: TARGET, dtype: float64\n",
      "\n",
      "Most Negative Correlations:\n",
      " AMT_DRAWINGS_POS_CURRENT             -0.003518\n",
      "NAME_CONTRACT_STATUS_Demand          -0.003016\n",
      "AMT_DRAWINGS_OTHER_CURRENT           -0.002672\n",
      "CNT_DRAWINGS_POS_CURRENT             -0.002387\n",
      "CNT_DRAWINGS_OTHER_CURRENT           -0.001833\n",
      "CNT_DRAWINGS_CURRENT                 -0.001764\n",
      "AMT_DRAWINGS_CURRENT                 -0.001419\n",
      "AMT_PAYMENT_TOTAL_CURRENT            -0.001395\n",
      "NAME_CONTRACT_STATUS_Sent proposal   -0.001147\n",
      "AMT_PAYMENT_CURRENT                  -0.001129\n",
      "NAME_CONTRACT_STATUS_Active          -0.000863\n",
      "MONTHS_BALANCE                       -0.000768\n",
      "NAME_CONTRACT_STATUS_Refused         -0.000534\n",
      "CNT_INSTALMENT_MATURE_CUM            -0.000342\n",
      "SK_DPD_DEF                           -0.000201\n",
      "Name: TARGET, dtype: float64\n"
     ]
    }
   ],
   "source": [
    "# Find correlations with the target and sort\n",
    "correlations = cc_balance.corr()['TARGET'].sort_values()\n",
    "\n",
    "# Display correlations\n",
    "print('Most Positive Correlations:\\n', correlations.tail(15))\n",
    "print('\\nMost Negative Correlations:\\n', correlations.head(15))\n",
    "\n",
    "\n"
   ]
  },
  {
   "cell_type": "markdown",
   "metadata": {},
   "source": [
    "## INORMATION\n",
    "as you can see the correlations are poor; the biggest one is -0.003518 which is -0.3518%\n",
    "probably is good to leave this .csv file. Maybe some(3-5 features) are good for data visualisation but I can't see anything special here."
   ]
  },
  {
   "cell_type": "code",
   "execution_count": null,
   "metadata": {},
   "outputs": [],
   "source": []
  }
 ],
 "metadata": {
  "kernelspec": {
   "display_name": "Python 3",
   "language": "python",
   "name": "python3"
  },
  "language_info": {
   "codemirror_mode": {
    "name": "ipython",
    "version": 3
   },
   "file_extension": ".py",
   "mimetype": "text/x-python",
   "name": "python",
   "nbconvert_exporter": "python",
   "pygments_lexer": "ipython3",
   "version": "3.7.0"
  }
 },
 "nbformat": 4,
 "nbformat_minor": 4
}
