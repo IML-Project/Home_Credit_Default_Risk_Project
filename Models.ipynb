{
 "cells": [
  {
   "cell_type": "markdown",
   "metadata": {},
   "source": [
    "# Models"
   ]
  },
  {
   "cell_type": "markdown",
   "metadata": {},
   "source": [
    "# Table of contents:\n",
    "* 1 [Preparation](#intro-bullet)\n",
    "* 2 [Logistic Regression](#first-bullet)\n",
    "* 3 [Random Forest](#second-bullet)\n",
    "* 3 [Balanced Random Forest](#third-bullet)\n",
    "* 4 [Naive Bayes](#fourth-bullet)\n",
    "* 5 [KNN](#fifth-bullet)\n",
    "* 6 [Decision Tree](#sixth-bullet)\n",
    "* 7 [Stacking](#seventh-bullet)\n",
    "* 8 [Boosting](#eigth-bullet)\n",
    "    * 8.1 [LigthGBM](#nineth-bullet)\n",
    "    * 8.2 [Gradient Boosting](#tenth-bullet)\n",
    "    * 8.3 [Histogram Gradient Boosting 1](#eleventh-bullet)\n",
    "    * 8.4 [Histogram Gradient Boosting 2](#12-bullet)\n",
    "* 9 [Bagging](#13-bullet)"
   ]
  },
  {
   "cell_type": "markdown",
   "metadata": {},
   "source": [
    "## 1. Preparation <a class=\"anchor\" id=\"intro-bullet\"></a>"
   ]
  },
  {
   "cell_type": "code",
   "execution_count": 10,
   "metadata": {},
   "outputs": [],
   "source": [
    "import pandas as pd\n",
    "import numpy as np\n",
    "import matplotlib.pyplot as plt\n",
    "from sklearn.model_selection import train_test_split\n",
    "from sklearn.metrics import classification_report, f1_score, roc_auc_score, confusion_matrix\n",
    "%matplotlib inline"
   ]
  },
  {
   "cell_type": "markdown",
   "metadata": {},
   "source": [
    "## REMARK\n",
    "the clf/model/rf or other names assigned to names of classifiers are estimator instances. There are firsty fitted to the model; that is, it must learn from the model. This is done by passing our training set to the **fit** method. Then we use **predic** or **predict_proba** to predict values of TARGET column or probability of such value"
   ]
  },
  {
   "cell_type": "code",
   "execution_count": 11,
   "metadata": {},
   "outputs": [],
   "source": [
    "# Basic feature engineering\n",
    "tmp_data1 = pd.read_csv(\"./featureData1.csv\")\n",
    "\n",
    "# split into train test sets\n",
    "train_data1, test_data1 = train_test_split(tmp_data1,test_size=0.2)\n",
    "test_data1.reset_index(inplace = True, drop = True)\n",
    "train_data1.reset_index(inplace = True, drop = True)\n",
    "\n",
    "# More detailed feature engineering\n",
    "tmp_data2 = pd.read_csv(\"./featureData2.csv\")\n",
    "\n",
    "# split into train test sets\n",
    "train_data2, test_data2 = train_test_split(tmp_data2,test_size=0.2)\n",
    "test_data2.reset_index(inplace = True, drop = True)\n",
    "train_data2.reset_index(inplace = True, drop = True)"
   ]
  },
  {
   "cell_type": "code",
   "execution_count": 12,
   "metadata": {},
   "outputs": [],
   "source": [
    "# drop the columns \"Unnamed: 0\"\n",
    "test_data1=test_data1.drop(columns='Unnamed: 0')\n",
    "train_data1=train_data1.drop(columns='Unnamed: 0')\n",
    "\n",
    "test_data2=test_data2.drop(columns='Unnamed: 0')\n",
    "train_data2=train_data2.drop(columns='Unnamed: 0')"
   ]
  },
  {
   "cell_type": "markdown",
   "metadata": {},
   "source": [
    "## 2. Logistic Regression <a class=\"anchor\" id=\"first-bullet\"></a>"
   ]
  },
  {
   "cell_type": "code",
   "execution_count": 13,
   "metadata": {},
   "outputs": [],
   "source": [
    "from sklearn.linear_model import LogisticRegression\n",
    "def LogRegModel(train, test):\n",
    "     # Extract the ids\n",
    "    train_ids = train['SK_ID_CURR']\n",
    "    test_ids = test['SK_ID_CURR']\n",
    "    \n",
    "    # Extract the labels for training\n",
    "    labels = train['TARGET']\n",
    "    test_labels = test['TARGET']\n",
    "    # Remove the ids and target\n",
    "    train = train.drop(columns = ['TARGET'])\n",
    "    test= test.drop(columns = ['TARGET'])\n",
    "    \n",
    "    # Make the model with the specified regularization parameter\n",
    "    # log_reg = LogisticRegression(C = 0.0001, class_weight=\"balanced\")\n",
    "    weights = {0:0.0878, 1:0.9122}\n",
    "    log_reg = LogisticRegression(C = 0.0001, class_weight=weights)\n",
    "\n",
    "    # Train on the training data\n",
    "    log_reg.fit(train, labels)\n",
    "    # Select only second column(TARGET)\n",
    "    log_reg_pred = log_reg.predict_proba(test)[:, 1]\n",
    "    tescik = log_reg.predict(test)\n",
    "    f1 = f1_score(test_labels, tescik)\n",
    "    cm = confusion_matrix(test_labels, tescik)\n",
    "\n",
    "    fig, ax = plt.subplots(figsize=(8, 8))\n",
    "    ax.imshow(cm)\n",
    "    ax.grid(False)\n",
    "    ax.xaxis.set(ticks=(0, 1), ticklabels=('Predicted 0s', 'Predicted 1s'))\n",
    "    ax.yaxis.set(ticks=(0, 1), ticklabels=('Actual 0s', 'Actual 1s'))\n",
    "    ax.set_ylim(1.5, -0.5)\n",
    "    for i in range(2):\n",
    "        for j in range(2):\n",
    "            ax.text(j, i, cm[i, j], ha='center', va='center', color='red')\n",
    "    plt.show()\n",
    "    \n",
    "    print('Train/Test split results:')\n",
    "    print(\"ROC\",  roc_auc_score(test_labels, log_reg_pred))\n",
    "    print('F1 score: %f' % f1)\n",
    "    return roc_auc_score(test_labels, log_reg_pred), log_reg_pred"
   ]
  },
  {
   "cell_type": "code",
   "execution_count": 15,
   "metadata": {},
   "outputs": [
    {
     "name": "stderr",
     "output_type": "stream",
     "text": [
      "/Library/Frameworks/Python.framework/Versions/3.7/lib/python3.7/site-packages/sklearn/linear_model/_logistic.py:764: ConvergenceWarning: lbfgs failed to converge (status=1):\n",
      "STOP: TOTAL NO. of ITERATIONS REACHED LIMIT.\n",
      "\n",
      "Increase the number of iterations (max_iter) or scale the data as shown in:\n",
      "    https://scikit-learn.org/stable/modules/preprocessing.html\n",
      "Please also refer to the documentation for alternative solver options:\n",
      "    https://scikit-learn.org/stable/modules/linear_model.html#logistic-regression\n",
      "  extra_warning_msg=_LOGISTIC_SOLVER_CONVERGENCE_MSG)\n"
     ]
    },
    {
     "data": {
      "image/png": "[encoded data removed]",
      "text/plain": [
       "<Figure size 576x576 with 1 Axes>"
      ]
     },
     "metadata": {
      "needs_background": "light"
     },
     "output_type": "display_data"
    },
    {
     "name": "stdout",
     "output_type": "stream",
     "text": [
      "Train/Test split results:\n",
      "ROC 0.6066766572730411\n",
      "F1 score: 0.182340\n"
     ]
    },
    {
     "name": "stderr",
     "output_type": "stream",
     "text": [
      "/Library/Frameworks/Python.framework/Versions/3.7/lib/python3.7/site-packages/sklearn/linear_model/_logistic.py:764: ConvergenceWarning: lbfgs failed to converge (status=1):\n",
      "STOP: TOTAL NO. of ITERATIONS REACHED LIMIT.\n",
      "\n",
      "Increase the number of iterations (max_iter) or scale the data as shown in:\n",
      "    https://scikit-learn.org/stable/modules/preprocessing.html\n",
      "Please also refer to the documentation for alternative solver options:\n",
      "    https://scikit-learn.org/stable/modules/linear_model.html#logistic-regression\n",
      "  extra_warning_msg=_LOGISTIC_SOLVER_CONVERGENCE_MSG)\n"
     ]
    },
    {
     "data": {
      "image/png": "[encoded data removed]",
      "text/plain": [
       "<Figure size 576x576 with 1 Axes>"
      ]
     },
     "metadata": {
      "needs_background": "light"
     },
     "output_type": "display_data"
    },
    {
     "name": "stdout",
     "output_type": "stream",
     "text": [
      "Train/Test split results:\n",
      "ROC 0.6199397525181161\n",
      "F1 score: 0.188461\n"
     ]
    }
   ],
   "source": [
    "LRScore1 = LogRegModel(train_data1,test_data1)\n",
    "LRScore2 = LogRegModel(train_data2,test_data2)"
   ]
  },
  {
   "cell_type": "markdown",
   "metadata": {},
   "source": [
    "## 3. Random Forest <a class=\"anchor\" id=\"second-bullet\"></a>"
   ]
  },
  {
   "cell_type": "code",
   "execution_count": 16,
   "metadata": {},
   "outputs": [],
   "source": [
    "from sklearn.ensemble import RandomForestClassifier\n",
    "from sklearn.metrics import roc_auc_score\n",
    "\n",
    "def RanForModel(train,test):\n",
    "    rf = RandomForestClassifier(n_estimators=100,\n",
    "                                max_depth=10,min_samples_split=20,\n",
    "                                min_samples_leaf=6,\n",
    "                                max_features='auto')\n",
    "     # Extract the ids\n",
    "    train_ids = train['SK_ID_CURR']\n",
    "    test_ids = test['SK_ID_CURR']\n",
    "    \n",
    "    # Extract the labels for training\n",
    "    labels = train['TARGET']\n",
    "    test_labels = test['TARGET']\n",
    "    # Remove the ids and target\n",
    "    train = train.drop(columns = ['TARGET'])\n",
    "    test= test.drop(columns = ['TARGET'])\n",
    "    \n",
    "    rf.fit(X = train, y = labels)\n",
    "    # Select only second column(TARGET)\n",
    "    ran_for_pred = rf.predict_proba(test)[:, 1]\n",
    "    \n",
    "    tescik = rf.predict(test)\n",
    "    f1 = f1_score(test_labels, tescik)\n",
    "    cm = confusion_matrix(test_labels, tescik)\n",
    "\n",
    "    fig, ax = plt.subplots(figsize=(8, 8))\n",
    "    ax.imshow(cm)\n",
    "    ax.grid(False)\n",
    "    ax.xaxis.set(ticks=(0, 1), ticklabels=('Predicted 0s', 'Predicted 1s'))\n",
    "    ax.yaxis.set(ticks=(0, 1), ticklabels=('Actual 0s', 'Actual 1s'))\n",
    "    ax.set_ylim(1.5, -0.5)\n",
    "    for i in range(2):\n",
    "        for j in range(2):\n",
    "            ax.text(j, i, cm[i, j], ha='center', va='center', color='red')\n",
    "    plt.show()\n",
    "    \n",
    "    print('F1 score: %f' % f1)\n",
    "    print('Train/Test split results:')\n",
    "    print(\"ROC\",  roc_auc_score(test_labels, ran_for_pred))\n",
    "    return roc_auc_score(test_labels, ran_for_pred),ran_for_pred\n",
    "   \n"
   ]
  },
  {
   "cell_type": "code",
   "execution_count": 17,
   "metadata": {},
   "outputs": [
    {
     "data": {
      "image/png": "[encoded data removed]",
      "text/plain": [
       "<Figure size 576x576 with 1 Axes>"
      ]
     },
     "metadata": {
      "needs_background": "light"
     },
     "output_type": "display_data"
    },
    {
     "name": "stdout",
     "output_type": "stream",
     "text": [
      "F1 score: 0.000000\n",
      "Train/Test split results:\n",
      "ROC 0.7328862273532819\n"
     ]
    },
    {
     "data": {
      "image/png": "[encoded data removed]",
      "text/plain": [
       "<Figure size 576x576 with 1 Axes>"
      ]
     },
     "metadata": {
      "needs_background": "light"
     },
     "output_type": "display_data"
    },
    {
     "name": "stdout",
     "output_type": "stream",
     "text": [
      "F1 score: 0.000401\n",
      "Train/Test split results:\n",
      "ROC 0.7336986205554994\n"
     ]
    }
   ],
   "source": [
    "RFScore1 = RanForModel(train_data1,test_data1)\n",
    "RFScore2 = RanForModel(train_data2,test_data2)"
   ]
  },
  {
   "cell_type": "markdown",
   "metadata": {},
   "source": [
    "## 4. Balanced Random Forest <a class=\"anchor\" id=\"third-bullet\"></a>"
   ]
  },
  {
   "cell_type": "code",
   "execution_count": 18,
   "metadata": {},
   "outputs": [],
   "source": [
    "from imblearn.ensemble import BalancedRandomForestClassifier\n",
    "\n",
    "def imbalancedRanFor(train,test):\n",
    "    rf = BalancedRandomForestClassifier(class_weight='balanced')\n",
    "     # Extract the ids\n",
    "    train_ids = train['SK_ID_CURR']\n",
    "    test_ids = test['SK_ID_CURR']\n",
    "    \n",
    "    # Extract the labels for training\n",
    "    labels = train['TARGET']\n",
    "    test_labels = test['TARGET']\n",
    "    # Remove the ids and target\n",
    "    train = train.drop(columns = ['TARGET'])\n",
    "    test= test.drop(columns = ['TARGET'])\n",
    "    \n",
    "    rf.fit(X = train, y = labels)\n",
    "    # Select only second column(TARGET)\n",
    "    ran_for_pred = rf.predict_proba(test)[:, 1]\n",
    "    \n",
    "    tescik = rf.predict(test)\n",
    "    f1 = f1_score(test_labels, tescik)\n",
    "    cm = confusion_matrix(test_labels, tescik)\n",
    "\n",
    "    fig, ax = plt.subplots(figsize=(8, 8))\n",
    "    ax.imshow(cm)\n",
    "    ax.grid(False)\n",
    "    ax.xaxis.set(ticks=(0, 1), ticklabels=('Predicted 0s', 'Predicted 1s'))\n",
    "    ax.yaxis.set(ticks=(0, 1), ticklabels=('Actual 0s', 'Actual 1s'))\n",
    "    ax.set_ylim(1.5, -0.5)\n",
    "    for i in range(2):\n",
    "        for j in range(2):\n",
    "            ax.text(j, i, cm[i, j], ha='center', va='center', color='red')\n",
    "    plt.show()\n",
    "    \n",
    "    print('F1 score: %f' % f1)\n",
    "    print('Train/Test split results:')\n",
    "    print(\"ROC\",  roc_auc_score(test_labels, ran_for_pred))\n",
    "    return roc_auc_score(test_labels, ran_for_pred),ran_for_pred"
   ]
  },
  {
   "cell_type": "code",
   "execution_count": 19,
   "metadata": {},
   "outputs": [
    {
     "data": {
      "image/png": "[encoded data removed]",
      "text/plain": [
       "<Figure size 576x576 with 1 Axes>"
      ]
     },
     "metadata": {
      "needs_background": "light"
     },
     "output_type": "display_data"
    },
    {
     "name": "stdout",
     "output_type": "stream",
     "text": [
      "F1 score: 0.242600\n",
      "Train/Test split results:\n",
      "ROC 0.7096529261649076\n"
     ]
    },
    {
     "data": {
      "image/png": "[encoded data removed]",
      "text/plain": [
       "<Figure size 576x576 with 1 Axes>"
      ]
     },
     "metadata": {
      "needs_background": "light"
     },
     "output_type": "display_data"
    },
    {
     "name": "stdout",
     "output_type": "stream",
     "text": [
      "F1 score: 0.247080\n",
      "Train/Test split results:\n",
      "ROC 0.7066336545096908\n"
     ]
    }
   ],
   "source": [
    "imbRFScore1 =imbalancedRanFor(train_data1,test_data1)\n",
    "imbRFScore2 =imbalancedRanFor(train_data2,test_data2)"
   ]
  },
  {
   "cell_type": "markdown",
   "metadata": {},
   "source": [
    "## 5. Naive Bayesian<a class=\"anchor\" id=\"fourth-bullet\"></a>"
   ]
  },
  {
   "cell_type": "code",
   "execution_count": 20,
   "metadata": {},
   "outputs": [],
   "source": [
    "from sklearn.naive_bayes import BernoulliNB\n",
    "from sklearn.metrics import roc_auc_score\n",
    "\n",
    "def NaiveBayModel(train,test):\n",
    "    \n",
    "    \n",
    "    clf = BernoulliNB()\n",
    "    \n",
    "     # Extract the ids\n",
    "    train_ids = train['SK_ID_CURR']\n",
    "    test_ids = test['SK_ID_CURR']\n",
    "    \n",
    "    # Extract the labels for training\n",
    "    labels = train['TARGET']\n",
    "    test_labels = test['TARGET']\n",
    "    # Remove the ids and target\n",
    "    train = train.drop(columns = ['TARGET','SK_ID_CURR'])\n",
    "    test= test.drop(columns = ['TARGET','SK_ID_CURR'])\n",
    "    clf.fit(X = train, y = labels)\n",
    "    clf_pred = clf.predict_proba(test)[:, 1]\n",
    "    tescik = clf.predict(test)\n",
    "    f1 = f1_score(test_labels, tescik)\n",
    "    cm = confusion_matrix(test_labels, tescik)\n",
    "\n",
    "    fig, ax = plt.subplots(figsize=(8, 8))\n",
    "    ax.imshow(cm)\n",
    "    ax.grid(False)\n",
    "    ax.xaxis.set(ticks=(0, 1), ticklabels=('Predicted 0s', 'Predicted 1s'))\n",
    "    ax.yaxis.set(ticks=(0, 1), ticklabels=('Actual 0s', 'Actual 1s'))\n",
    "    ax.set_ylim(1.5, -0.5)\n",
    "    for i in range(2):\n",
    "        for j in range(2):\n",
    "            ax.text(j, i, cm[i, j], ha='center', va='center', color='red')\n",
    "    plt.show()\n",
    "    \n",
    "    print('Train/Test split results:')\n",
    "    print(\"ROC\",  roc_auc_score(test_labels, clf_pred))\n",
    "    f1 = f1_score(test_labels, tescik)\n",
    "    print('F1 score: %f' % f1)\n",
    "    return roc_auc_score(test_labels, clf_pred),clf_pred\n",
    "  \n"
   ]
  },
  {
   "cell_type": "code",
   "execution_count": 21,
   "metadata": {},
   "outputs": [
    {
     "data": {
      "image/png": "[encoded data removed]",
      "text/plain": [
       "<Figure size 576x576 with 1 Axes>"
      ]
     },
     "metadata": {
      "needs_background": "light"
     },
     "output_type": "display_data"
    },
    {
     "name": "stdout",
     "output_type": "stream",
     "text": [
      "Train/Test split results:\n",
      "ROC 0.6190323304938536\n",
      "F1 score: 0.122915\n"
     ]
    },
    {
     "data": {
      "image/png": "[encoded data removed]",
      "text/plain": [
       "<Figure size 576x576 with 1 Axes>"
      ]
     },
     "metadata": {
      "needs_background": "light"
     },
     "output_type": "display_data"
    },
    {
     "name": "stdout",
     "output_type": "stream",
     "text": [
      "Train/Test split results:\n",
      "ROC 0.6058775460972707\n",
      "F1 score: 0.175580\n"
     ]
    }
   ],
   "source": [
    "NBScore1 = NaiveBayModel(train_data1,test_data1)\n",
    "NBScore2 = NaiveBayModel(train_data2,test_data2)"
   ]
  },
  {
   "cell_type": "markdown",
   "metadata": {},
   "source": [
    "## 6. K-Nearest Neighbors <a class=\"anchor\" id=\"fifth-bullet\"></a>"
   ]
  },
  {
   "cell_type": "code",
   "execution_count": 22,
   "metadata": {},
   "outputs": [],
   "source": [
    "from sklearn.neighbors import KNeighborsClassifier\n",
    "from sklearn.metrics import roc_auc_score\n",
    "\n",
    "def KNNModel(train,test):\n",
    "    \n",
    "    \n",
    "    clf = KNeighborsClassifier(n_neighbors=3)\n",
    "    \n",
    "     # Extract the ids\n",
    "    train_ids = train['SK_ID_CURR']\n",
    "    test_ids = test['SK_ID_CURR']\n",
    "    \n",
    "    # Extract the labels for training\n",
    "    labels = train['TARGET']\n",
    "    test_labels = test['TARGET']\n",
    "    # Remove the ids and target\n",
    "    train = train.drop(columns = ['TARGET','SK_ID_CURR'])\n",
    "    test= test.drop(columns = ['TARGET','SK_ID_CURR'])\n",
    "    clf.fit(X = train, y = labels)\n",
    "    clf_pred = clf.predict_proba(test)[:, 1]\n",
    "    tescik = clf.predict(test)\n",
    "    f1 = f1_score(test_labels, tescik)\n",
    "    cm = confusion_matrix(test_labels, tescik)\n",
    "\n",
    "    fig, ax = plt.subplots(figsize=(8, 8))\n",
    "    ax.imshow(cm)\n",
    "    ax.grid(False)\n",
    "    ax.xaxis.set(ticks=(0, 1), ticklabels=('Predicted 0s', 'Predicted 1s'))\n",
    "    ax.yaxis.set(ticks=(0, 1), ticklabels=('Actual 0s', 'Actual 1s'))\n",
    "    ax.set_ylim(1.5, -0.5)\n",
    "    for i in range(2):\n",
    "        for j in range(2):\n",
    "            ax.text(j, i, cm[i, j], ha='center', va='center', color='red')\n",
    "    plt.show()\n",
    "    \n",
    "    print('Train/Test split results:')\n",
    "    print(\"ROC\",  roc_auc_score(test_labels, clf_pred))\n",
    "    f1 = f1_score(test_labels, tescik)\n",
    "    print('F1 score: %f' % f1)\n",
    "    return roc_auc_score(test_labels, clf_pred), clf_pred"
   ]
  },
  {
   "cell_type": "code",
   "execution_count": 23,
   "metadata": {},
   "outputs": [
    {
     "data": {
      "image/png": "[encoded data removed]",
      "text/plain": [
       "<Figure size 576x576 with 1 Axes>"
      ]
     },
     "metadata": {
      "needs_background": "light"
     },
     "output_type": "display_data"
    },
    {
     "name": "stdout",
     "output_type": "stream",
     "text": [
      "Train/Test split results:\n",
      "ROC 0.6283626583932087\n",
      "F1 score: 0.000000\n"
     ]
    },
    {
     "ename": "KeyboardInterrupt",
     "evalue": "",
     "output_type": "error",
     "traceback": [
      "\u001b[0;31m---------------------------------------------------------------------------\u001b[0m",
      "\u001b[0;31mKeyboardInterrupt\u001b[0m                         Traceback (most recent call last)",
      "\u001b[0;32m<ipython-input-23-733f7340e44a>\u001b[0m in \u001b[0;36m<module>\u001b[0;34m\u001b[0m\n\u001b[1;32m      1\u001b[0m \u001b[0mKNNScore1\u001b[0m \u001b[0;34m=\u001b[0m \u001b[0mKNNModel\u001b[0m\u001b[0;34m(\u001b[0m\u001b[0mtrain_data1\u001b[0m\u001b[0;34m,\u001b[0m\u001b[0mtest_data1\u001b[0m\u001b[0;34m)\u001b[0m\u001b[0;34m\u001b[0m\u001b[0m\n\u001b[0;32m----> 2\u001b[0;31m \u001b[0mKNNScore2\u001b[0m \u001b[0;34m=\u001b[0m \u001b[0mKNNModel\u001b[0m\u001b[0;34m(\u001b[0m\u001b[0mtrain_data2\u001b[0m\u001b[0;34m,\u001b[0m\u001b[0mtest_data2\u001b[0m\u001b[0;34m)\u001b[0m\u001b[0;34m\u001b[0m\u001b[0m\n\u001b[0m",
      "\u001b[0;32m<ipython-input-22-33478b62748b>\u001b[0m in \u001b[0;36mKNNModel\u001b[0;34m(train, test)\u001b[0m\n\u001b[1;32m     17\u001b[0m     \u001b[0mtrain\u001b[0m \u001b[0;34m=\u001b[0m \u001b[0mtrain\u001b[0m\u001b[0;34m.\u001b[0m\u001b[0mdrop\u001b[0m\u001b[0;34m(\u001b[0m\u001b[0mcolumns\u001b[0m \u001b[0;34m=\u001b[0m \u001b[0;34m[\u001b[0m\u001b[0;34m'TARGET'\u001b[0m\u001b[0;34m,\u001b[0m\u001b[0;34m'SK_ID_CURR'\u001b[0m\u001b[0;34m]\u001b[0m\u001b[0;34m)\u001b[0m\u001b[0;34m\u001b[0m\u001b[0m\n\u001b[1;32m     18\u001b[0m     \u001b[0mtest\u001b[0m\u001b[0;34m=\u001b[0m \u001b[0mtest\u001b[0m\u001b[0;34m.\u001b[0m\u001b[0mdrop\u001b[0m\u001b[0;34m(\u001b[0m\u001b[0mcolumns\u001b[0m \u001b[0;34m=\u001b[0m \u001b[0;34m[\u001b[0m\u001b[0;34m'TARGET'\u001b[0m\u001b[0;34m,\u001b[0m\u001b[0;34m'SK_ID_CURR'\u001b[0m\u001b[0;34m]\u001b[0m\u001b[0;34m)\u001b[0m\u001b[0;34m\u001b[0m\u001b[0m\n\u001b[0;32m---> 19\u001b[0;31m     \u001b[0mclf\u001b[0m\u001b[0;34m.\u001b[0m\u001b[0mfit\u001b[0m\u001b[0;34m(\u001b[0m\u001b[0mX\u001b[0m \u001b[0;34m=\u001b[0m \u001b[0mtrain\u001b[0m\u001b[0;34m,\u001b[0m \u001b[0my\u001b[0m \u001b[0;34m=\u001b[0m \u001b[0mlabels\u001b[0m\u001b[0;34m)\u001b[0m\u001b[0;34m\u001b[0m\u001b[0m\n\u001b[0m\u001b[1;32m     20\u001b[0m     \u001b[0mclf_pred\u001b[0m \u001b[0;34m=\u001b[0m \u001b[0mclf\u001b[0m\u001b[0;34m.\u001b[0m\u001b[0mpredict_proba\u001b[0m\u001b[0;34m(\u001b[0m\u001b[0mtest\u001b[0m\u001b[0;34m)\u001b[0m\u001b[0;34m[\u001b[0m\u001b[0;34m:\u001b[0m\u001b[0;34m,\u001b[0m \u001b[0;36m1\u001b[0m\u001b[0;34m]\u001b[0m\u001b[0;34m\u001b[0m\u001b[0m\n\u001b[1;32m     21\u001b[0m     \u001b[0mtescik\u001b[0m \u001b[0;34m=\u001b[0m \u001b[0mclf\u001b[0m\u001b[0;34m.\u001b[0m\u001b[0mpredict\u001b[0m\u001b[0;34m(\u001b[0m\u001b[0mtest\u001b[0m\u001b[0;34m)\u001b[0m\u001b[0;34m\u001b[0m\u001b[0m\n",
      "\u001b[0;32m/Library/Frameworks/Python.framework/Versions/3.7/lib/python3.7/site-packages/sklearn/neighbors/_base.py\u001b[0m in \u001b[0;36mfit\u001b[0;34m(self, X, y)\u001b[0m\n\u001b[1;32m   1155\u001b[0m             \u001b[0mself\u001b[0m\u001b[0;34m.\u001b[0m\u001b[0m_y\u001b[0m \u001b[0;34m=\u001b[0m \u001b[0mself\u001b[0m\u001b[0;34m.\u001b[0m\u001b[0m_y\u001b[0m\u001b[0;34m.\u001b[0m\u001b[0mravel\u001b[0m\u001b[0;34m(\u001b[0m\u001b[0;34m)\u001b[0m\u001b[0;34m\u001b[0m\u001b[0m\n\u001b[1;32m   1156\u001b[0m \u001b[0;34m\u001b[0m\u001b[0m\n\u001b[0;32m-> 1157\u001b[0;31m         \u001b[0;32mreturn\u001b[0m \u001b[0mself\u001b[0m\u001b[0;34m.\u001b[0m\u001b[0m_fit\u001b[0m\u001b[0;34m(\u001b[0m\u001b[0mX\u001b[0m\u001b[0;34m)\u001b[0m\u001b[0;34m\u001b[0m\u001b[0m\n\u001b[0m\u001b[1;32m   1158\u001b[0m \u001b[0;34m\u001b[0m\u001b[0m\n\u001b[1;32m   1159\u001b[0m     \u001b[0;32mdef\u001b[0m \u001b[0m_more_tags\u001b[0m\u001b[0;34m(\u001b[0m\u001b[0mself\u001b[0m\u001b[0;34m)\u001b[0m\u001b[0;34m:\u001b[0m\u001b[0;34m\u001b[0m\u001b[0m\n",
      "\u001b[0;32m/Library/Frameworks/Python.framework/Versions/3.7/lib/python3.7/site-packages/sklearn/neighbors/_base.py\u001b[0m in \u001b[0;36m_fit\u001b[0;34m(self, X)\u001b[0m\n\u001b[1;32m    456\u001b[0m             self._tree = KDTree(X, self.leaf_size,\n\u001b[1;32m    457\u001b[0m                                 \u001b[0mmetric\u001b[0m\u001b[0;34m=\u001b[0m\u001b[0mself\u001b[0m\u001b[0;34m.\u001b[0m\u001b[0meffective_metric_\u001b[0m\u001b[0;34m,\u001b[0m\u001b[0;34m\u001b[0m\u001b[0m\n\u001b[0;32m--> 458\u001b[0;31m                                 **self.effective_metric_params_)\n\u001b[0m\u001b[1;32m    459\u001b[0m         \u001b[0;32melif\u001b[0m \u001b[0mself\u001b[0m\u001b[0;34m.\u001b[0m\u001b[0m_fit_method\u001b[0m \u001b[0;34m==\u001b[0m \u001b[0;34m'brute'\u001b[0m\u001b[0;34m:\u001b[0m\u001b[0;34m\u001b[0m\u001b[0m\n\u001b[1;32m    460\u001b[0m             \u001b[0mself\u001b[0m\u001b[0;34m.\u001b[0m\u001b[0m_tree\u001b[0m \u001b[0;34m=\u001b[0m \u001b[0;32mNone\u001b[0m\u001b[0;34m\u001b[0m\u001b[0m\n",
      "\u001b[0;31mKeyboardInterrupt\u001b[0m: "
     ]
    }
   ],
   "source": [
    "KNNScore1 = KNNModel(train_data1,test_data1)\n",
    "KNNScore2 = KNNModel(train_data2,test_data2)"
   ]
  },
  {
   "cell_type": "markdown",
   "metadata": {},
   "source": [
    "## 6. Decision Tree <a class=\"anchor\" id=\"sixth-bullet\"></a>"
   ]
  },
  {
   "cell_type": "code",
   "execution_count": 24,
   "metadata": {},
   "outputs": [],
   "source": [
    "from sklearn.tree import DecisionTreeClassifier\n",
    "def DTModel(train,test):\n",
    "    \n",
    "    \n",
    "    clf = DecisionTreeClassifier()\n",
    "    \n",
    "     # Extract the ids\n",
    "    train_ids = train['SK_ID_CURR']\n",
    "    test_ids = test['SK_ID_CURR']\n",
    "    \n",
    "    # Extract the labels for training\n",
    "    labels = train['TARGET']\n",
    "    test_labels = test['TARGET']\n",
    "    # Remove the ids and target\n",
    "    train = train.drop(columns = ['TARGET','SK_ID_CURR'])\n",
    "    test= test.drop(columns = ['TARGET','SK_ID_CURR'])\n",
    "    clf.fit(X = train, y = labels)\n",
    "    clf_pred = clf.predict_proba(test)[:, 1]\n",
    "    tescik = clf.predict(test)\n",
    "    f1 = f1_score(test_labels, tescik)\n",
    "    cm = confusion_matrix(test_labels, tescik)\n",
    "\n",
    "    fig, ax = plt.subplots(figsize=(8, 8))\n",
    "    ax.imshow(cm)\n",
    "    ax.grid(False)\n",
    "    ax.xaxis.set(ticks=(0, 1), ticklabels=('Predicted 0s', 'Predicted 1s'))\n",
    "    ax.yaxis.set(ticks=(0, 1), ticklabels=('Actual 0s', 'Actual 1s'))\n",
    "    ax.set_ylim(1.5, -0.5)\n",
    "    for i in range(2):\n",
    "        for j in range(2):\n",
    "            ax.text(j, i, cm[i, j], ha='center', va='center', color='red')\n",
    "    plt.show()\n",
    "    \n",
    "    print('Train/Test split results:')\n",
    "    print(\"ROC\",  roc_auc_score(test_labels, clf_pred))\n",
    "    f1 = f1_score(test_labels, tescik)\n",
    "    print('F1 score: %f' % f1)\n",
    "    return roc_auc_score(test_labels, clf_pred),clf_pred"
   ]
  },
  {
   "cell_type": "code",
   "execution_count": 26,
   "metadata": {},
   "outputs": [
    {
     "data": {
      "image/png": "[encoded data removed]",
      "text/plain": [
       "<Figure size 576x576 with 1 Axes>"
      ]
     },
     "metadata": {
      "needs_background": "light"
     },
     "output_type": "display_data"
    },
    {
     "name": "stdout",
     "output_type": "stream",
     "text": [
      "Train/Test split results:\n",
      "ROC 0.5413399597996447\n",
      "F1 score: 0.156399\n"
     ]
    },
    {
     "data": {
      "image/png": "[encoded data removed]",
      "text/plain": [
       "<Figure size 576x576 with 1 Axes>"
      ]
     },
     "metadata": {
      "needs_background": "light"
     },
     "output_type": "display_data"
    },
    {
     "name": "stdout",
     "output_type": "stream",
     "text": [
      "Train/Test split results:\n",
      "ROC 0.5452881684273777\n",
      "F1 score: 0.164056\n"
     ]
    }
   ],
   "source": [
    "DTScore1 = DTModel(train_data1,test_data1)\n",
    "DTScore2 = DTModel(train_data2,test_data2)"
   ]
  },
  {
   "cell_type": "markdown",
   "metadata": {},
   "source": [
    "## 7. Stacking <a class=\"anchor\" id=\"seventh-bullet\"></a>"
   ]
  },
  {
   "cell_type": "code",
   "execution_count": 27,
   "metadata": {},
   "outputs": [],
   "source": [
    "from sklearn.neighbors import KNeighborsClassifier\n",
    "from numpy import mean\n",
    "from numpy import std\n",
    "from sklearn.datasets import make_classification\n",
    "from sklearn.model_selection import cross_val_score\n",
    "from sklearn.model_selection import RepeatedStratifiedKFold\n",
    "from sklearn.linear_model import LogisticRegression\n",
    "from sklearn.neighbors import KNeighborsClassifier\n",
    "from sklearn.tree import DecisionTreeClassifier\n",
    "from sklearn.svm import SVC\n",
    "from sklearn.naive_bayes import GaussianNB\n",
    "from sklearn.ensemble import StackingClassifier\n",
    "from matplotlib import pyplot\n",
    "import re\n",
    "def fun2(train, test):\n",
    "    # define dataset\n",
    "  \n",
    "    # Extract the ids\n",
    "    train_ids = train['SK_ID_CURR']\n",
    "    test_ids = test['SK_ID_CURR']\n",
    "    \n",
    "    # Extract the labels for training\n",
    "    labels = train['TARGET']\n",
    "    test_labels = test['TARGET']\n",
    "    # Remove the ids and target\n",
    "    train = train.drop(columns = ['TARGET','SK_ID_CURR'])\n",
    "    test= test.drop(columns = ['TARGET','SK_ID_CURR'])\n",
    "    train = train.rename(columns = lambda x:re.sub('[^A-Za-z0-9_]+', '', x))\n",
    "    X = train\n",
    "    y = labels\n",
    "    # define the base models\n",
    "    level0 = list()  \n",
    "    level0.append(('dt', DecisionTreeClassifier()))\n",
    "    weights = {0:0.9122, 1:0.0878}\n",
    "    level0.append(('lr', LogisticRegression(C = 0.0001, class_weight=weights)))\n",
    "    level0.append(('sth',BalancedRandomForestClassifier()))\n",
    "    # define meta learner model\n",
    "   \n",
    "    level1 =BalancedRandomForestClassifier()\n",
    "    # define the stacking ensemble\n",
    "    model = StackingClassifier(estimators=level0, final_estimator=level1, cv=2)\n",
    "    # fit the model on all available data\n",
    "    model.fit(X, y)\n",
    "    # make a prediction for one example\n",
    "    model_pred = model.predict_proba(test)[:,1]\n",
    "    tescik = model.predict(test)\n",
    "    f1 = f1_score(test_labels, tescik)\n",
    "    cm = confusion_matrix(test_labels, tescik)\n",
    "\n",
    "    fig, ax = plt.subplots(figsize=(8, 8))\n",
    "    ax.imshow(cm)\n",
    "    ax.grid(False)\n",
    "    ax.xaxis.set(ticks=(0, 1), ticklabels=('Predicted 0s', 'Predicted 1s'))\n",
    "    ax.yaxis.set(ticks=(0, 1), ticklabels=('Actual 0s', 'Actual 1s'))\n",
    "    ax.set_ylim(1.5, -0.5)\n",
    "    for i in range(2):\n",
    "        for j in range(2):\n",
    "            ax.text(j, i, cm[i, j], ha='center', va='center', color='red')\n",
    "    plt.show()\n",
    "    \n",
    "    print('Train/Test split results:')\n",
    "    print(\"ROC\",  roc_auc_score(test_labels, model_pred))\n",
    "    print(\"F1 score \", f1)\n",
    "    return roc_auc_score(test_labels, model_pred), model_pred"
   ]
  },
  {
   "cell_type": "code",
   "execution_count": 28,
   "metadata": {},
   "outputs": [
    {
     "name": "stderr",
     "output_type": "stream",
     "text": [
      "/Library/Frameworks/Python.framework/Versions/3.7/lib/python3.7/site-packages/sklearn/linear_model/_logistic.py:764: ConvergenceWarning: lbfgs failed to converge (status=1):\n",
      "STOP: TOTAL NO. of ITERATIONS REACHED LIMIT.\n",
      "\n",
      "Increase the number of iterations (max_iter) or scale the data as shown in:\n",
      "    https://scikit-learn.org/stable/modules/preprocessing.html\n",
      "Please also refer to the documentation for alternative solver options:\n",
      "    https://scikit-learn.org/stable/modules/linear_model.html#logistic-regression\n",
      "  extra_warning_msg=_LOGISTIC_SOLVER_CONVERGENCE_MSG)\n"
     ]
    },
    {
     "data": {
      "image/png": "[encoded data removed]",
      "text/plain": [
       "<Figure size 576x576 with 1 Axes>"
      ]
     },
     "metadata": {
      "needs_background": "light"
     },
     "output_type": "display_data"
    },
    {
     "name": "stdout",
     "output_type": "stream",
     "text": [
      "Train/Test split results:\n",
      "ROC 0.6663240495940239\n",
      "F1 score  0.20412784679089027\n"
     ]
    },
    {
     "name": "stderr",
     "output_type": "stream",
     "text": [
      "/Library/Frameworks/Python.framework/Versions/3.7/lib/python3.7/site-packages/sklearn/linear_model/_logistic.py:764: ConvergenceWarning: lbfgs failed to converge (status=1):\n",
      "STOP: TOTAL NO. of ITERATIONS REACHED LIMIT.\n",
      "\n",
      "Increase the number of iterations (max_iter) or scale the data as shown in:\n",
      "    https://scikit-learn.org/stable/modules/preprocessing.html\n",
      "Please also refer to the documentation for alternative solver options:\n",
      "    https://scikit-learn.org/stable/modules/linear_model.html#logistic-regression\n",
      "  extra_warning_msg=_LOGISTIC_SOLVER_CONVERGENCE_MSG)\n",
      "/Library/Frameworks/Python.framework/Versions/3.7/lib/python3.7/site-packages/sklearn/linear_model/_logistic.py:764: ConvergenceWarning: lbfgs failed to converge (status=1):\n",
      "STOP: TOTAL NO. of ITERATIONS REACHED LIMIT.\n",
      "\n",
      "Increase the number of iterations (max_iter) or scale the data as shown in:\n",
      "    https://scikit-learn.org/stable/modules/preprocessing.html\n",
      "Please also refer to the documentation for alternative solver options:\n",
      "    https://scikit-learn.org/stable/modules/linear_model.html#logistic-regression\n",
      "  extra_warning_msg=_LOGISTIC_SOLVER_CONVERGENCE_MSG)\n",
      "/Library/Frameworks/Python.framework/Versions/3.7/lib/python3.7/site-packages/sklearn/linear_model/_logistic.py:764: ConvergenceWarning: lbfgs failed to converge (status=1):\n",
      "STOP: TOTAL NO. of ITERATIONS REACHED LIMIT.\n",
      "\n",
      "Increase the number of iterations (max_iter) or scale the data as shown in:\n",
      "    https://scikit-learn.org/stable/modules/preprocessing.html\n",
      "Please also refer to the documentation for alternative solver options:\n",
      "    https://scikit-learn.org/stable/modules/linear_model.html#logistic-regression\n",
      "  extra_warning_msg=_LOGISTIC_SOLVER_CONVERGENCE_MSG)\n"
     ]
    },
    {
     "data": {
      "image/png": "[encoded data removed]",
      "text/plain": [
       "<Figure size 576x576 with 1 Axes>"
      ]
     },
     "metadata": {
      "needs_background": "light"
     },
     "output_type": "display_data"
    },
    {
     "name": "stdout",
     "output_type": "stream",
     "text": [
      "Train/Test split results:\n",
      "ROC 0.6681047422546712\n",
      "F1 score  0.20994654138992389\n"
     ]
    }
   ],
   "source": [
    "StackingScore1 = fun2(train_data1,test_data1)\n",
    "StackingScore2 = fun2(train_data2,test_data2)"
   ]
  },
  {
   "cell_type": "code",
   "execution_count": null,
   "metadata": {},
   "outputs": [],
   "source": []
  },
  {
   "cell_type": "markdown",
   "metadata": {},
   "source": [
    "## 8. Boosting <a class=\"anchor\" id=\"eigth-bullet\"></a>"
   ]
  },
  {
   "cell_type": "markdown",
   "metadata": {},
   "source": [
    "## 8.1 LightGBM <a class=\"anchor\" id=\"nineth-bullet\"></a>"
   ]
  },
  {
   "cell_type": "code",
   "execution_count": 29,
   "metadata": {},
   "outputs": [],
   "source": [
    "import lightgbm as lgb\n",
    "import re\n",
    "from sklearn.metrics import f1_score\n",
    "from sklearn.model_selection import RepeatedStratifiedKFold\n",
    "from sklearn.model_selection import cross_val_score\n",
    "from sklearn.metrics import classification_report, confusion_matrix\n",
    "\n",
    "def PlainLightGBM(train,test):\n",
    "    \n",
    "     # Extract the ids\n",
    "    train_ids = train['SK_ID_CURR']\n",
    "    test_ids = test['SK_ID_CURR']\n",
    "   \n",
    "    model = lgb.LGBMClassifier(class_weight ='balanced' )\n",
    "    # Extract the labels for training\n",
    "    labels = train['TARGET']\n",
    "    test_labels = test['TARGET']\n",
    "    # Remove the ids and target\n",
    "    train = train.drop(columns = ['TARGET','SK_ID_CURR'])\n",
    "    test= test.drop(columns = ['TARGET','SK_ID_CURR'])\n",
    "    train = train.rename(columns = lambda x:re.sub('[^A-Za-z0-9_]+', '', x))\n",
    "    test = test.rename(columns = lambda x:re.sub('[^A-Za-z0-9_]+', '', x))\n",
    "    cv = RepeatedStratifiedKFold(n_splits=5, n_repeats=2, random_state=1)\n",
    "    n_scores = cross_val_score(model, train, labels, scoring='roc_auc', cv=cv, n_jobs=-1, error_score='raise')\n",
    "    \n",
    "    model.fit(train,labels)\n",
    "    model_pred =  model.predict_proba(test)[:, 1]\n",
    "   \n",
    "    tescik =  model.predict(test)\n",
    "    f1 = f1_score(test_labels, tescik)\n",
    "     \n",
    "    print('Train/Test split results:')\n",
    "    print(\"ROC\",  roc_auc_score(test_labels, model_pred))\n",
    "    print('F1 score: %f' % f1)\n",
    "    cm = confusion_matrix(test_labels, tescik)\n",
    "\n",
    "    fig, ax = plt.subplots(figsize=(8, 8))\n",
    "    ax.imshow(cm)\n",
    "    ax.grid(False)\n",
    "    ax.xaxis.set(ticks=(0, 1), ticklabels=('Predicted 0s', 'Predicted 1s'))\n",
    "    ax.yaxis.set(ticks=(0, 1), ticklabels=('Actual 0s', 'Actual 1s'))\n",
    "    ax.set_ylim(1.5, -0.5)\n",
    "    for i in range(2):\n",
    "        for j in range(2):\n",
    "            ax.text(j, i, cm[i, j], ha='center', va='center', color='red')\n",
    "    plt.show()\n",
    "    return roc_auc_score(test_labels, model_pred), model_pred\n",
    "\n",
    "    \n"
   ]
  },
  {
   "cell_type": "code",
   "execution_count": 30,
   "metadata": {},
   "outputs": [
    {
     "name": "stdout",
     "output_type": "stream",
     "text": [
      "Train/Test split results:\n",
      "ROC 0.7492784959411157\n",
      "F1 score: 0.263440\n"
     ]
    },
    {
     "data": {
      "image/png": "[encoded data removed]",
      "text/plain": [
       "<Figure size 576x576 with 1 Axes>"
      ]
     },
     "metadata": {
      "needs_background": "light"
     },
     "output_type": "display_data"
    },
    {
     "name": "stdout",
     "output_type": "stream",
     "text": [
      "Train/Test split results:\n",
      "ROC 0.7508027408010884\n",
      "F1 score: 0.266053\n"
     ]
    },
    {
     "data": {
      "image/png": "[encoded data removed]",
      "text/plain": [
       "<Figure size 576x576 with 1 Axes>"
      ]
     },
     "metadata": {
      "needs_background": "light"
     },
     "output_type": "display_data"
    }
   ],
   "source": [
    "LGBMScore1=PlainLightGBM(train_data1,test_data1)\n",
    "LGBMScore2=PlainLightGBM(train_data2,test_data2)"
   ]
  },
  {
   "cell_type": "markdown",
   "metadata": {},
   "source": [
    "## 8.2 Gradient Boosting  <a class=\"anchor\" id=\"tenth-bullet\"></a>"
   ]
  },
  {
   "cell_type": "code",
   "execution_count": 31,
   "metadata": {},
   "outputs": [],
   "source": [
    "from sklearn.neighbors import KNeighborsClassifier\n",
    "# make predictions using gradient boosting for classification\n",
    "from sklearn.datasets import make_classification\n",
    "from sklearn.ensemble import GradientBoostingClassifier\n",
    "from sklearn.model_selection import StratifiedKFold\n",
    "from sklearn.model_selection import cross_val_score\n",
    "\n",
    "import re\n",
    "\n",
    "def myBooster(train,test):\n",
    "    train_ids = train['SK_ID_CURR']\n",
    "    test_ids = test['SK_ID_CURR']\n",
    "    \n",
    "    # Extract the labels for training\n",
    "    labels = train['TARGET']\n",
    "    test_labels = test['TARGET']\n",
    "    # Remove the ids and target\n",
    "    train = train.drop(columns = ['TARGET','SK_ID_CURR'])\n",
    "    test= test.drop(columns = ['TARGET','SK_ID_CURR'])\n",
    "    train = train.rename(columns = lambda x:re.sub('[^A-Za-z0-9_]+', '', x))\n",
    "    # define dataset\n",
    "    X = train\n",
    "    y = labels\n",
    "    # define the model\n",
    "    model = GradientBoostingClassifier()\n",
    "    cv = StratifiedKFold(n_splits=2, shuffle=True, random_state=1)\n",
    "    n_scores = cross_val_score(model, X, y, scoring='roc_auc', cv=cv, n_jobs=-1, error_score='raise')\n",
    "    model.fit(X, y)\n",
    "    # make a prediction for one example\n",
    "    model_pred = model.predict_proba(test)[:,1]\n",
    "    tescik = model.predict(test)\n",
    "    f1 = f1_score(test_labels, tescik)\n",
    "    cm = confusion_matrix(test_labels, tescik)\n",
    "\n",
    "    fig, ax = plt.subplots(figsize=(8, 8))\n",
    "    ax.imshow(cm)\n",
    "    ax.grid(False)\n",
    "    ax.xaxis.set(ticks=(0, 1), ticklabels=('Predicted 0s', 'Predicted 1s'))\n",
    "    ax.yaxis.set(ticks=(0, 1), ticklabels=('Actual 0s', 'Actual 1s'))\n",
    "    ax.set_ylim(1.5, -0.5)\n",
    "    for i in range(2):\n",
    "        for j in range(2):\n",
    "            ax.text(j, i, cm[i, j], ha='center', va='center', color='red')\n",
    "    plt.show()\n",
    "    \n",
    "    print('Train/Test split results:')\n",
    "    print(\"ROC\",  roc_auc_score(test_labels, model_pred))\n",
    "    print('F1 score: %f' % f1)\n",
    "    return roc_auc_score(test_labels, model_pred), model_pred"
   ]
  },
  {
   "cell_type": "code",
   "execution_count": 36,
   "metadata": {},
   "outputs": [
    {
     "data": {
      "image/png": "[encoded data removed]",
      "text/plain": [
       "<Figure size 576x576 with 1 Axes>"
      ]
     },
     "metadata": {
      "needs_background": "light"
     },
     "output_type": "display_data"
    },
    {
     "name": "stdout",
     "output_type": "stream",
     "text": [
      "Train/Test split results:\n",
      "ROC 0.747570257228894\n",
      "F1 score: 0.023943\n"
     ]
    },
    {
     "data": {
      "image/png": "[encoded data removed]",
      "text/plain": [
       "<Figure size 576x576 with 1 Axes>"
      ]
     },
     "metadata": {
      "needs_background": "light"
     },
     "output_type": "display_data"
    },
    {
     "name": "stdout",
     "output_type": "stream",
     "text": [
      "Train/Test split results:\n",
      "ROC 0.747012532127232\n",
      "F1 score: 0.032672\n"
     ]
    }
   ],
   "source": [
    "GBScore1=myBooster(train_data1,test_data1)\n",
    "GBScore2=myBooster(train_data2,test_data2)"
   ]
  },
  {
   "cell_type": "markdown",
   "metadata": {},
   "source": [
    "## 8.3 Histogram Gradient Boosting  <a class=\"anchor\" id=\"11th-bullet\"></a>"
   ]
  },
  {
   "cell_type": "code",
   "execution_count": 37,
   "metadata": {},
   "outputs": [],
   "source": [
    "from sklearn.experimental import enable_hist_gradient_boosting\n",
    "from sklearn.ensemble import HistGradientBoostingClassifier\n",
    "\n",
    "def myHistBooster(train, test):\n",
    "    train_ids = train['SK_ID_CURR']\n",
    "    test_ids = test['SK_ID_CURR']\n",
    "    \n",
    "    # Extract the labels for training\n",
    "    labels = train['TARGET']\n",
    "    test_labels = test['TARGET']\n",
    "    # Remove the ids and target\n",
    "    train = train.drop(columns = ['TARGET','SK_ID_CURR'])\n",
    "    test= test.drop(columns = ['TARGET','SK_ID_CURR'])\n",
    "    train = train.rename(columns = lambda x:re.sub('[^A-Za-z0-9_]+', '', x))\n",
    "    # define dataset\n",
    "    X = train\n",
    "    y = labels\n",
    "    model = HistGradientBoostingClassifier()\n",
    "    cv = RepeatedStratifiedKFold(n_splits=5, n_repeats=3, random_state=1)\n",
    "    n_scores = cross_val_score(model, X, y, scoring='roc_auc', cv=cv, n_jobs=-1, error_score='raise')\n",
    "    \n",
    "    model.fit(X, y)\n",
    "    model_pred = model.predict_proba(test)[:,1]\n",
    "    tescik = model.predict(test)\n",
    "    f1 = f1_score(test_labels, tescik)\n",
    "    cm = confusion_matrix(test_labels, tescik)\n",
    "\n",
    "    fig, ax = plt.subplots(figsize=(8, 8))\n",
    "    ax.imshow(cm)\n",
    "    ax.grid(False)\n",
    "    ax.xaxis.set(ticks=(0, 1), ticklabels=('Predicted 0s', 'Predicted 1s'))\n",
    "    ax.yaxis.set(ticks=(0, 1), ticklabels=('Actual 0s', 'Actual 1s'))\n",
    "    ax.set_ylim(1.5, -0.5)\n",
    "    for i in range(2):\n",
    "        for j in range(2):\n",
    "            ax.text(j, i, cm[i, j], ha='center', va='center', color='red')\n",
    "    plt.show()\n",
    "    \n",
    "    print('Train/Test split results:')\n",
    "    print(\"ROC\",  roc_auc_score(test_labels, model_pred))\n",
    "    print('F1 score: %f' % f1)\n",
    "    return roc_auc_score(test_labels, model_pred), model_pred\n",
    "    "
   ]
  },
  {
   "cell_type": "code",
   "execution_count": 38,
   "metadata": {},
   "outputs": [
    {
     "data": {
      "image/png": "[encoded data removed]",
      "text/plain": [
       "<Figure size 576x576 with 1 Axes>"
      ]
     },
     "metadata": {
      "needs_background": "light"
     },
     "output_type": "display_data"
    },
    {
     "name": "stdout",
     "output_type": "stream",
     "text": [
      "Train/Test split results:\n",
      "ROC 0.7485836403759518\n",
      "F1 score: 0.033544\n"
     ]
    },
    {
     "data": {
      "image/png": "[encoded data removed]",
      "text/plain": [
       "<Figure size 576x576 with 1 Axes>"
      ]
     },
     "metadata": {
      "needs_background": "light"
     },
     "output_type": "display_data"
    },
    {
     "name": "stdout",
     "output_type": "stream",
     "text": [
      "Train/Test split results:\n",
      "ROC 0.7481138563262382\n",
      "F1 score: 0.024271\n"
     ]
    }
   ],
   "source": [
    "HB1Score1 = myHistBooster(train_data1,test_data1)\n",
    "HB1Score2 = myHistBooster(train_data2,test_data2)"
   ]
  },
  {
   "cell_type": "code",
   "execution_count": 39,
   "metadata": {},
   "outputs": [],
   "source": [
    "from sklearn.experimental import enable_hist_gradient_boosting\n",
    "from sklearn.ensemble import HistGradientBoostingClassifier\n",
    "from sklearn.datasets import make_classification\n",
    "from sklearn.model_selection import RepeatedStratifiedKFold\n",
    "from sklearn.model_selection import GridSearchCV\n",
    "from sklearn.ensemble import GradientBoostingClassifier\n",
    "import re \n",
    "def myHistBooster2(train, test):\n",
    "    train_ids = train['SK_ID_CURR']\n",
    "    test_ids = test['SK_ID_CURR']\n",
    "    \n",
    "    # Extract the labels for training\n",
    "    labels = train['TARGET']\n",
    "    test_labels = test['TARGET']\n",
    "    # Remove the ids and target\n",
    "    train = train.drop(columns = ['TARGET','SK_ID_CURR'])\n",
    "    test= test.drop(columns = ['TARGET','SK_ID_CURR'])\n",
    "    train = train.rename(columns = lambda x:re.sub('[^A-Za-z0-9_]+', '', x))\n",
    "    # define dataset\n",
    "    X = train\n",
    "    y = labels\n",
    "    model = HistGradientBoostingClassifier()\n",
    "    grid = dict()\n",
    "    grid['learning_rate'] = [0.1]\n",
    "    \n",
    "    grid['max_depth'] = [7]\n",
    "    # define the evaluation procedure\n",
    "    cv = RepeatedStratifiedKFold(n_splits=5, n_repeats=3, random_state=1)\n",
    "    # define the grid search procedure\n",
    "    grid_search = GridSearchCV(estimator=model, param_grid=grid, n_jobs=-1, cv=cv, scoring='roc_auc',error_score='raise')\n",
    "    # execute the grid search\n",
    "    grid_search.fit(X, y)\n",
    "    # summarize the best score and configuration\n",
    "    model_pred =  grid_search.predict_proba(test)[:,1]\n",
    "    tescik =  grid_search.predict(test)\n",
    "    f1 = f1_score(test_labels, tescik)\n",
    "    cm = confusion_matrix(test_labels, tescik)\n",
    "\n",
    "    fig, ax = plt.subplots(figsize=(8, 8))\n",
    "    ax.imshow(cm)\n",
    "    ax.grid(False)\n",
    "    ax.xaxis.set(ticks=(0, 1), ticklabels=('Predicted 0s', 'Predicted 1s'))\n",
    "    ax.yaxis.set(ticks=(0, 1), ticklabels=('Actual 0s', 'Actual 1s'))\n",
    "    ax.set_ylim(1.5, -0.5)\n",
    "    for i in range(2):\n",
    "        for j in range(2):\n",
    "            ax.text(j, i, cm[i, j], ha='center', va='center', color='red')\n",
    "    plt.show()\n",
    "    \n",
    "    print('Train/Test split results:')\n",
    "    print(\"ROC\",  roc_auc_score(test_labels, model_pred)), model_pred\n",
    "    print('F1 score: %f' % f1)\n",
    "    \n",
    "\n",
    "  "
   ]
  },
  {
   "cell_type": "code",
   "execution_count": 40,
   "metadata": {},
   "outputs": [
    {
     "data": {
      "image/png": "[encoded data removed]",
      "text/plain": [
       "<Figure size 576x576 with 1 Axes>"
      ]
     },
     "metadata": {
      "needs_background": "light"
     },
     "output_type": "display_data"
    },
    {
     "name": "stdout",
     "output_type": "stream",
     "text": [
      "Train/Test split results:\n",
      "ROC 0.7493995022782352\n",
      "F1 score: 0.034265\n"
     ]
    },
    {
     "data": {
      "image/png": "[encoded data removed]",
      "text/plain": [
       "<Figure size 576x576 with 1 Axes>"
      ]
     },
     "metadata": {
      "needs_background": "light"
     },
     "output_type": "display_data"
    },
    {
     "name": "stdout",
     "output_type": "stream",
     "text": [
      "Train/Test split results:\n",
      "ROC 0.7498516389099994\n",
      "F1 score: 0.029206\n"
     ]
    }
   ],
   "source": [
    "HB2Score1 = myHistBooster2(train_data1,test_data1)\n",
    "HB2Score2 = myHistBooster2(train_data2,test_data2)"
   ]
  },
  {
   "cell_type": "markdown",
   "metadata": {},
   "source": [
    "## 9. Bagging <a class=\"anchor\" id=\"12th-bullet\"></a>"
   ]
  },
  {
   "cell_type": "code",
   "execution_count": 41,
   "metadata": {},
   "outputs": [],
   "source": [
    "from sklearn.experimental import enable_hist_gradient_boosting\n",
    "from sklearn.ensemble import HistGradientBoostingClassifier\n",
    "from sklearn.datasets import make_classification\n",
    "from sklearn.model_selection import RepeatedStratifiedKFold\n",
    "from sklearn.model_selection import GridSearchCV\n",
    "from sklearn.tree import DecisionTreeClassifier \n",
    "from sklearn.ensemble import RandomForestClassifier\n",
    "from sklearn import model_selection \n",
    "from sklearn.ensemble import BaggingClassifier \n",
    "def bagging(train, test):\n",
    "    train_ids = train['SK_ID_CURR']\n",
    "    test_ids = test['SK_ID_CURR']\n",
    "    \n",
    "    # Extract the labels for training\n",
    "    labels = train['TARGET']\n",
    "    test_labels = test['TARGET']\n",
    "    # Remove the ids and target\n",
    "    train = train.drop(columns = ['TARGET','SK_ID_CURR'])\n",
    "    test= test.drop(columns = ['TARGET','SK_ID_CURR'])\n",
    "    train = train.rename(columns = lambda x:re.sub('[^A-Za-z0-9_]+', '', x))\n",
    "    \n",
    "    # define dataset\n",
    "    X = train\n",
    "    y = labels\n",
    "    seed = 1\n",
    "   \n",
    "    # initialize the base classifier \n",
    "    base_cls = RandomForestClassifier(n_estimators = 100, n_jobs = -1)\n",
    "    base_cls1 = BalancedRandomForestClassifier()\n",
    "    weights = {0:0.9122, 1:0.0878}\n",
    "    base_cls2 = LogisticRegression(C = 0.0001, class_weight=weights)\n",
    "  \n",
    "    # no. of base classifier \n",
    "    num_trees = 100\n",
    "  \n",
    "    # bagging classifier \n",
    "    model = BaggingClassifier(base_estimator = base_cls2, \n",
    "                          random_state = seed,\n",
    "                             n_jobs=-1) \n",
    "    print(\"Fiting\")\n",
    "    model.fit(X,y)\n",
    "    model_pred = model.predict_proba(test)[:,1]\n",
    "    tescik = model.predict(test)\n",
    "    f1 = f1_score(test_labels, tescik)\n",
    "    cm = confusion_matrix(test_labels, tescik)\n",
    "\n",
    "    fig, ax = plt.subplots(figsize=(8, 8))\n",
    "    ax.imshow(cm)\n",
    "    ax.grid(False)\n",
    "    ax.xaxis.set(ticks=(0, 1), ticklabels=('Predicted 0s', 'Predicted 1s'))\n",
    "    ax.yaxis.set(ticks=(0, 1), ticklabels=('Actual 0s', 'Actual 1s'))\n",
    "    ax.set_ylim(1.5, -0.5)\n",
    "    for i in range(2):\n",
    "        for j in range(2):\n",
    "            ax.text(j, i, cm[i, j], ha='center', va='center', color='red')\n",
    "    plt.show()\n",
    "    \n",
    "    print('Train/Test split results:')\n",
    "    print(\"ROC\",  roc_auc_score(test_labels, model_pred)), model_pred\n",
    "    print('F1 score: %f' % f1)"
   ]
  },
  {
   "cell_type": "code",
   "execution_count": 42,
   "metadata": {},
   "outputs": [
    {
     "name": "stdout",
     "output_type": "stream",
     "text": [
      "Fiting\n"
     ]
    },
    {
     "data": {
      "image/png": "[encoded data removed]",
      "text/plain": [
       "<Figure size 576x576 with 1 Axes>"
      ]
     },
     "metadata": {
      "needs_background": "light"
     },
     "output_type": "display_data"
    },
    {
     "name": "stdout",
     "output_type": "stream",
     "text": [
      "Train/Test split results:\n",
      "ROC 0.6166463926781002\n",
      "F1 score: 0.000000\n",
      "Fiting\n"
     ]
    },
    {
     "data": {
      "image/png": "[encoded data removed]",
      "text/plain": [
       "<Figure size 576x576 with 1 Axes>"
      ]
     },
     "metadata": {
      "needs_background": "light"
     },
     "output_type": "display_data"
    },
    {
     "name": "stdout",
     "output_type": "stream",
     "text": [
      "Train/Test split results:\n",
      "ROC 0.6112361647485027\n",
      "F1 score: 0.000000\n"
     ]
    }
   ],
   "source": [
    "BagginScore1=bagging(train_data1,test_data1)\n",
    "BagginScore2=bagging(train_data2,test_data2)"
   ]
  },
  {
   "cell_type": "code",
   "execution_count": 56,
   "metadata": {},
   "outputs": [],
   "source": [
    "from sklearn.metrics import roc_curve\n",
    "def plotingROC(test_labels,log_reg_proba):\n",
    "    fpr, tpr, thresh = roc_curve(test_labels, log_reg_proba, pos_label=1)\n",
    "    random_probs = [0 for i in range(len(test_labels))]\n",
    "    p_fpr, p_tpr,_  = roc_curve(test_labels, random_probs, pos_label=1)\n",
    "    plt.plot(p_fpr, p_tpr, linestyle='--', color='blue')\n",
    "    plt.plot(fpr, tpr, linestyle='--', color='orange', label='Logistic Regression')\n",
    "    \n",
    "    plt.title('ROC curve')\n",
    "    plt.xlabel('False Positive Rate')\n",
    "    plt.ylabel('True Positive rate')\n",
    "    plt.legend(loc='best')\n",
    "    plt.show();\n",
    "    "
   ]
  },
  {
   "cell_type": "markdown",
   "metadata": {},
   "source": [
    "## Additional model\n"
   ]
  },
  {
   "cell_type": "code",
   "execution_count": 57,
   "metadata": {},
   "outputs": [
    {
     "data": {
      "image/png": "[encoded data removed]",
      "text/plain": [
       "<Figure size 432x288 with 1 Axes>"
      ]
     },
     "metadata": {
      "needs_background": "light"
     },
     "output_type": "display_data"
    }
   ],
   "source": [
    "plotingROC(test_data2[\"TARGET\"],LGBMScore2[1])\n"
   ]
  },
  {
   "cell_type": "code",
   "execution_count": 49,
   "metadata": {},
   "outputs": [
    {
     "ename": "IndexError",
     "evalue": "invalid index to scalar variable.",
     "output_type": "error",
     "traceback": [
      "\u001b[0;31m---------------------------------------------------------------------------\u001b[0m",
      "\u001b[0;31mIndexError\u001b[0m                                Traceback (most recent call last)",
      "\u001b[0;32m<ipython-input-49-0acbea6b6d44>\u001b[0m in \u001b[0;36m<module>\u001b[0;34m\u001b[0m\n\u001b[0;32m----> 1\u001b[0;31m \u001b[0mplotingROC\u001b[0m\u001b[0;34m(\u001b[0m\u001b[0mtest_data2\u001b[0m\u001b[0;34m[\u001b[0m\u001b[0;34m\"TARGET\"\u001b[0m\u001b[0;34m]\u001b[0m\u001b[0;34m,\u001b[0m\u001b[0mLRScore2\u001b[0m\u001b[0;34m[\u001b[0m\u001b[0;36m1\u001b[0m\u001b[0;34m]\u001b[0m\u001b[0;34m)\u001b[0m\u001b[0;34m\u001b[0m\u001b[0m\n\u001b[0m",
      "\u001b[0;31mIndexError\u001b[0m: invalid index to scalar variable."
     ]
    }
   ],
   "source": []
  },
  {
   "cell_type": "code",
   "execution_count": null,
   "metadata": {},
   "outputs": [],
   "source": []
  }
 ],
 "metadata": {
  "kernelspec": {
   "display_name": "Python 3",
   "language": "python",
   "name": "python3"
  },
  "language_info": {
   "codemirror_mode": {
    "name": "ipython",
    "version": 3
   },
   "file_extension": ".py",
   "mimetype": "text/x-python",
   "name": "python",
   "nbconvert_exporter": "python",
   "pygments_lexer": "ipython3",
   "version": "3.7.0"
  }
 },
 "nbformat": 4,
 "nbformat_minor": 4
}
