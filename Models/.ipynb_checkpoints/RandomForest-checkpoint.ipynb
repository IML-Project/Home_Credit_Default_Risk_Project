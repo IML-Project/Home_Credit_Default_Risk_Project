{
 "cells": [
  {
   "cell_type": "markdown",
   "metadata": {},
   "source": [
    "# Random Forest Model"
   ]
  },
  {
   "cell_type": "markdown",
   "metadata": {},
   "source": [
    "## Importing needed modules"
   ]
  },
  {
   "cell_type": "code",
   "execution_count": null,
   "metadata": {},
   "outputs": [],
   "source": [
    "import pandas as pd\n",
    "import numpy as np\n",
    "import matplotlib.pyplot as plt\n",
    "%matplotlib inline"
   ]
  },
  {
   "cell_type": "markdown",
   "metadata": {},
   "source": [
    "## Getting the data"
   ]
  },
  {
   "cell_type": "code",
   "execution_count": null,
   "metadata": {},
   "outputs": [],
   "source": [
    "#data = pd.read_csv(\"/Users/michael/Documents/GitHub/Home_Credit_Default_Risk_Project/train.csv\")\n",
    "data = pd.read_csv(\"../train.csv\")"
   ]
  },
  {
   "cell_type": "markdown",
   "metadata": {},
   "source": [
    "## Quick look at the data"
   ]
  },
  {
   "cell_type": "code",
   "execution_count": null,
   "metadata": {},
   "outputs": [],
   "source": [
    "data.head()"
   ]
  },
  {
   "cell_type": "markdown",
   "metadata": {},
   "source": [
    "## Create features"
   ]
  },
  {
   "cell_type": "code",
   "execution_count": null,
   "metadata": {},
   "outputs": [],
   "source": [
    "data.columns.drop('Unnamed: 0')\n",
    "# usunac ta kolumne trzeba, ale potem"
   ]
  },
  {
   "cell_type": "code",
   "execution_count": null,
   "metadata": {},
   "outputs": [],
   "source": [
    "data.shape"
   ]
  },
  {
   "cell_type": "markdown",
   "metadata": {},
   "source": [
    "## Import modules for random forest"
   ]
  },
  {
   "cell_type": "code",
   "execution_count": null,
   "metadata": {},
   "outputs": [],
   "source": [
    "from sklearn.ensemble import RandomForestClassifier\n",
    "from sklearn.metrics import mean_squared_error, r2_score\n",
    "from sklearn import preprocessing"
   ]
  },
  {
   "cell_type": "code",
   "execution_count": null,
   "metadata": {},
   "outputs": [],
   "source": [
    "rf = RandomForestClassifier(n_estimators=200,\n",
    "                          max_depth=10,\n",
    "                          min_samples_split=10,\n",
    "                          min_samples_leaf=6,\n",
    "                          max_features='auto')\n",
    "data_copy = data.copy()\n",
    "data = data.drop(columns=\"TARGET\")\n",
    "features = data.columns.tolist()\n",
    "rf.fit(X = data[features], y = data_copy['TARGET'])"
   ]
  },
  {
   "cell_type": "code",
   "execution_count": null,
   "metadata": {},
   "outputs": [],
   "source": [
    "#preds = rf.predict(data[features].values)\n",
    "\n",
    "# Copyrights: Michał Lemiec sp. Z.O.O.\n",
    "\n",
    "test_data = pd.read_csv(\"../test.csv\")\n",
    "\n",
    "test_copy = test_data.copy()\n",
    "\n",
    "test_data=test_data.drop(columns=\"TARGET\")\n",
    "\n",
    "ran_for_pred = rf.predict_proba(test_data)[:, 1]\n",
    "\n",
    "from sklearn.metrics import roc_auc_score\n",
    "print('Train/Test split results:')\n",
    "#print(logreg.__class__.__name__+\" accuracy is %2.3f\" % accuracy_score(Y_test, Y_pred))\n",
    "print(\"ROC\",  roc_auc_score(test_copy[\"TARGET\"], ran_for_pred))\n",
    "\n",
    "#print(\"Mean squared error: %.2f\" % mean_squared_error(data['TARGET'].values, preds))\n",
    "#print(\"R2 score: %.2f\" % r2_score(data['TARGET'].values, preds))"
   ]
  },
  {
   "cell_type": "code",
   "execution_count": null,
   "metadata": {},
   "outputs": [],
   "source": []
  }
 ],
 "metadata": {
  "kernelspec": {
   "display_name": "Python 3",
   "language": "python",
   "name": "python3"
  },
  "language_info": {
   "codemirror_mode": {
    "name": "ipython",
    "version": 3
   },
   "file_extension": ".py",
   "mimetype": "text/x-python",
   "name": "python",
   "nbconvert_exporter": "python",
   "pygments_lexer": "ipython3",
   "version": "3.8.6"
  }
 },
 "nbformat": 4,
 "nbformat_minor": 4
}
