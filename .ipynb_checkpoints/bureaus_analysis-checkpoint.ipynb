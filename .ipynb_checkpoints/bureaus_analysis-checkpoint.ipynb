{
 "cells": [
  {
   "cell_type": "markdown",
   "metadata": {},
   "source": [
    "# Bureaus Files Analysis"
   ]
  },
  {
   "cell_type": "markdown",
   "metadata": {},
   "source": [
    "* Import libraries"
   ]
  },
  {
   "cell_type": "code",
   "execution_count": 1,
   "metadata": {},
   "outputs": [],
   "source": [
    "import pandas as pd\n",
    "import numpy as np\n",
    "import matplotlib.pyplot as plt\n",
    "import seaborn as sns\n",
    "%matplotlib inline"
   ]
  },
  {
   "cell_type": "markdown",
   "metadata": {},
   "source": [
    "* Read data from files"
   ]
  },
  {
   "cell_type": "code",
   "execution_count": 2,
   "metadata": {},
   "outputs": [],
   "source": [
    "bureau = pd.read_csv('../data/bureau.csv')\n",
    "bureau_balance = pd.read_csv('../data/bureau_balance.csv')"
   ]
  },
  {
   "cell_type": "markdown",
   "metadata": {},
   "source": [
    "* Print the shape of the data"
   ]
  },
  {
   "cell_type": "code",
   "execution_count": 3,
   "metadata": {},
   "outputs": [
    {
     "name": "stdout",
     "output_type": "stream",
     "text": [
      "Shape of the following data:\n",
      "Bureau:  (1716428, 17)\n",
      "Bureau balance:  (27299925, 3)\n"
     ]
    }
   ],
   "source": [
    "print(\"Shape of the following data:\")\n",
    "print(\"Bureau: \", bureau.shape)\n",
    "print(\"Bureau balance: \", bureau_balance.shape)"
   ]
  },
  {
   "cell_type": "markdown",
   "metadata": {},
   "source": [
    "* Print the information about the data and datatypes for each file"
   ]
  },
  {
   "cell_type": "code",
   "execution_count": 4,
   "metadata": {},
   "outputs": [
    {
     "name": "stdout",
     "output_type": "stream",
     "text": [
      "Bureau data:\n",
      "<class 'pandas.core.frame.DataFrame'>\n",
      "RangeIndex: 1716428 entries, 0 to 1716427\n",
      "Data columns (total 17 columns):\n",
      " #   Column                  Dtype  \n",
      "---  ------                  -----  \n",
      " 0   SK_ID_CURR              int64  \n",
      " 1   SK_ID_BUREAU            int64  \n",
      " 2   CREDIT_ACTIVE           object \n",
      " 3   CREDIT_CURRENCY         object \n",
      " 4   DAYS_CREDIT             int64  \n",
      " 5   CREDIT_DAY_OVERDUE      int64  \n",
      " 6   DAYS_CREDIT_ENDDATE     float64\n",
      " 7   DAYS_ENDDATE_FACT       float64\n",
      " 8   AMT_CREDIT_MAX_OVERDUE  float64\n",
      " 9   CNT_CREDIT_PROLONG      int64  \n",
      " 10  AMT_CREDIT_SUM          float64\n",
      " 11  AMT_CREDIT_SUM_DEBT     float64\n",
      " 12  AMT_CREDIT_SUM_LIMIT    float64\n",
      " 13  AMT_CREDIT_SUM_OVERDUE  float64\n",
      " 14  CREDIT_TYPE             object \n",
      " 15  DAYS_CREDIT_UPDATE      int64  \n",
      " 16  AMT_ANNUITY             float64\n",
      "dtypes: float64(8), int64(6), object(3)\n",
      "memory usage: 222.6+ MB\n",
      "\n",
      "Bureau balance data:\n",
      "<class 'pandas.core.frame.DataFrame'>\n",
      "RangeIndex: 27299925 entries, 0 to 27299924\n",
      "Data columns (total 3 columns):\n",
      " #   Column          Dtype \n",
      "---  ------          ----- \n",
      " 0   SK_ID_BUREAU    int64 \n",
      " 1   MONTHS_BALANCE  int64 \n",
      " 2   STATUS          object\n",
      "dtypes: int64(2), object(1)\n",
      "memory usage: 624.8+ MB\n"
     ]
    }
   ],
   "source": [
    "print(\"Bureau data:\")\n",
    "bureau.info()\n",
    "\n",
    "print(\"\")\n",
    "print(\"Bureau balance data:\")\n",
    "bureau_balance.info()"
   ]
  },
  {
   "cell_type": "markdown",
   "metadata": {},
   "source": [
    "* Print the head for both files, so that we can, what types of data we are, in fact, working with"
   ]
  },
  {
   "cell_type": "code",
   "execution_count": 5,
   "metadata": {},
   "outputs": [
    {
     "data": {
      "text/html": [
       "<div>\n",
       "<style scoped>\n",
       "    .dataframe tbody tr th:only-of-type {\n",
       "        vertical-align: middle;\n",
       "    }\n",
       "\n",
       "    .dataframe tbody tr th {\n",
       "        vertical-align: top;\n",
       "    }\n",
       "\n",
       "    .dataframe thead th {\n",
       "        text-align: right;\n",
       "    }\n",
       "</style>\n",
       "<table border=\"1\" class=\"dataframe\">\n",
       "  <thead>\n",
       "    <tr style=\"text-align: right;\">\n",
       "      <th></th>\n",
       "      <th>SK_ID_CURR</th>\n",
       "      <th>SK_ID_BUREAU</th>\n",
       "      <th>CREDIT_ACTIVE</th>\n",
       "      <th>CREDIT_CURRENCY</th>\n",
       "      <th>DAYS_CREDIT</th>\n",
       "      <th>CREDIT_DAY_OVERDUE</th>\n",
       "      <th>DAYS_CREDIT_ENDDATE</th>\n",
       "      <th>DAYS_ENDDATE_FACT</th>\n",
       "      <th>AMT_CREDIT_MAX_OVERDUE</th>\n",
       "      <th>CNT_CREDIT_PROLONG</th>\n",
       "      <th>AMT_CREDIT_SUM</th>\n",
       "      <th>AMT_CREDIT_SUM_DEBT</th>\n",
       "      <th>AMT_CREDIT_SUM_LIMIT</th>\n",
       "      <th>AMT_CREDIT_SUM_OVERDUE</th>\n",
       "      <th>CREDIT_TYPE</th>\n",
       "      <th>DAYS_CREDIT_UPDATE</th>\n",
       "      <th>AMT_ANNUITY</th>\n",
       "    </tr>\n",
       "  </thead>\n",
       "  <tbody>\n",
       "    <tr>\n",
       "      <th>0</th>\n",
       "      <td>215354</td>\n",
       "      <td>5714462</td>\n",
       "      <td>Closed</td>\n",
       "      <td>currency 1</td>\n",
       "      <td>-497</td>\n",
       "      <td>0</td>\n",
       "      <td>-153.0</td>\n",
       "      <td>-153.0</td>\n",
       "      <td>NaN</td>\n",
       "      <td>0</td>\n",
       "      <td>91323.0</td>\n",
       "      <td>0.0</td>\n",
       "      <td>NaN</td>\n",
       "      <td>0.0</td>\n",
       "      <td>Consumer credit</td>\n",
       "      <td>-131</td>\n",
       "      <td>NaN</td>\n",
       "    </tr>\n",
       "    <tr>\n",
       "      <th>1</th>\n",
       "      <td>215354</td>\n",
       "      <td>5714463</td>\n",
       "      <td>Active</td>\n",
       "      <td>currency 1</td>\n",
       "      <td>-208</td>\n",
       "      <td>0</td>\n",
       "      <td>1075.0</td>\n",
       "      <td>NaN</td>\n",
       "      <td>NaN</td>\n",
       "      <td>0</td>\n",
       "      <td>225000.0</td>\n",
       "      <td>171342.0</td>\n",
       "      <td>NaN</td>\n",
       "      <td>0.0</td>\n",
       "      <td>Credit card</td>\n",
       "      <td>-20</td>\n",
       "      <td>NaN</td>\n",
       "    </tr>\n",
       "    <tr>\n",
       "      <th>2</th>\n",
       "      <td>215354</td>\n",
       "      <td>5714464</td>\n",
       "      <td>Active</td>\n",
       "      <td>currency 1</td>\n",
       "      <td>-203</td>\n",
       "      <td>0</td>\n",
       "      <td>528.0</td>\n",
       "      <td>NaN</td>\n",
       "      <td>NaN</td>\n",
       "      <td>0</td>\n",
       "      <td>464323.5</td>\n",
       "      <td>NaN</td>\n",
       "      <td>NaN</td>\n",
       "      <td>0.0</td>\n",
       "      <td>Consumer credit</td>\n",
       "      <td>-16</td>\n",
       "      <td>NaN</td>\n",
       "    </tr>\n",
       "    <tr>\n",
       "      <th>3</th>\n",
       "      <td>215354</td>\n",
       "      <td>5714465</td>\n",
       "      <td>Active</td>\n",
       "      <td>currency 1</td>\n",
       "      <td>-203</td>\n",
       "      <td>0</td>\n",
       "      <td>NaN</td>\n",
       "      <td>NaN</td>\n",
       "      <td>NaN</td>\n",
       "      <td>0</td>\n",
       "      <td>90000.0</td>\n",
       "      <td>NaN</td>\n",
       "      <td>NaN</td>\n",
       "      <td>0.0</td>\n",
       "      <td>Credit card</td>\n",
       "      <td>-16</td>\n",
       "      <td>NaN</td>\n",
       "    </tr>\n",
       "    <tr>\n",
       "      <th>4</th>\n",
       "      <td>215354</td>\n",
       "      <td>5714466</td>\n",
       "      <td>Active</td>\n",
       "      <td>currency 1</td>\n",
       "      <td>-629</td>\n",
       "      <td>0</td>\n",
       "      <td>1197.0</td>\n",
       "      <td>NaN</td>\n",
       "      <td>77674.5</td>\n",
       "      <td>0</td>\n",
       "      <td>2700000.0</td>\n",
       "      <td>NaN</td>\n",
       "      <td>NaN</td>\n",
       "      <td>0.0</td>\n",
       "      <td>Consumer credit</td>\n",
       "      <td>-21</td>\n",
       "      <td>NaN</td>\n",
       "    </tr>\n",
       "  </tbody>\n",
       "</table>\n",
       "</div>"
      ],
      "text/plain": [
       "   SK_ID_CURR  SK_ID_BUREAU CREDIT_ACTIVE CREDIT_CURRENCY  DAYS_CREDIT  \\\n",
       "0      215354       5714462        Closed      currency 1         -497   \n",
       "1      215354       5714463        Active      currency 1         -208   \n",
       "2      215354       5714464        Active      currency 1         -203   \n",
       "3      215354       5714465        Active      currency 1         -203   \n",
       "4      215354       5714466        Active      currency 1         -629   \n",
       "\n",
       "   CREDIT_DAY_OVERDUE  DAYS_CREDIT_ENDDATE  DAYS_ENDDATE_FACT  \\\n",
       "0                   0               -153.0             -153.0   \n",
       "1                   0               1075.0                NaN   \n",
       "2                   0                528.0                NaN   \n",
       "3                   0                  NaN                NaN   \n",
       "4                   0               1197.0                NaN   \n",
       "\n",
       "   AMT_CREDIT_MAX_OVERDUE  CNT_CREDIT_PROLONG  AMT_CREDIT_SUM  \\\n",
       "0                     NaN                   0         91323.0   \n",
       "1                     NaN                   0        225000.0   \n",
       "2                     NaN                   0        464323.5   \n",
       "3                     NaN                   0         90000.0   \n",
       "4                 77674.5                   0       2700000.0   \n",
       "\n",
       "   AMT_CREDIT_SUM_DEBT  AMT_CREDIT_SUM_LIMIT  AMT_CREDIT_SUM_OVERDUE  \\\n",
       "0                  0.0                   NaN                     0.0   \n",
       "1             171342.0                   NaN                     0.0   \n",
       "2                  NaN                   NaN                     0.0   \n",
       "3                  NaN                   NaN                     0.0   \n",
       "4                  NaN                   NaN                     0.0   \n",
       "\n",
       "       CREDIT_TYPE  DAYS_CREDIT_UPDATE  AMT_ANNUITY  \n",
       "0  Consumer credit                -131          NaN  \n",
       "1      Credit card                 -20          NaN  \n",
       "2  Consumer credit                 -16          NaN  \n",
       "3      Credit card                 -16          NaN  \n",
       "4  Consumer credit                 -21          NaN  "
      ]
     },
     "execution_count": 5,
     "metadata": {},
     "output_type": "execute_result"
    }
   ],
   "source": [
    "bureau.head()"
   ]
  },
  {
   "cell_type": "code",
   "execution_count": 6,
   "metadata": {},
   "outputs": [
    {
     "data": {
      "text/html": [
       "<div>\n",
       "<style scoped>\n",
       "    .dataframe tbody tr th:only-of-type {\n",
       "        vertical-align: middle;\n",
       "    }\n",
       "\n",
       "    .dataframe tbody tr th {\n",
       "        vertical-align: top;\n",
       "    }\n",
       "\n",
       "    .dataframe thead th {\n",
       "        text-align: right;\n",
       "    }\n",
       "</style>\n",
       "<table border=\"1\" class=\"dataframe\">\n",
       "  <thead>\n",
       "    <tr style=\"text-align: right;\">\n",
       "      <th></th>\n",
       "      <th>SK_ID_BUREAU</th>\n",
       "      <th>MONTHS_BALANCE</th>\n",
       "      <th>STATUS</th>\n",
       "    </tr>\n",
       "  </thead>\n",
       "  <tbody>\n",
       "    <tr>\n",
       "      <th>0</th>\n",
       "      <td>5715448</td>\n",
       "      <td>0</td>\n",
       "      <td>C</td>\n",
       "    </tr>\n",
       "    <tr>\n",
       "      <th>1</th>\n",
       "      <td>5715448</td>\n",
       "      <td>-1</td>\n",
       "      <td>C</td>\n",
       "    </tr>\n",
       "    <tr>\n",
       "      <th>2</th>\n",
       "      <td>5715448</td>\n",
       "      <td>-2</td>\n",
       "      <td>C</td>\n",
       "    </tr>\n",
       "    <tr>\n",
       "      <th>3</th>\n",
       "      <td>5715448</td>\n",
       "      <td>-3</td>\n",
       "      <td>C</td>\n",
       "    </tr>\n",
       "    <tr>\n",
       "      <th>4</th>\n",
       "      <td>5715448</td>\n",
       "      <td>-4</td>\n",
       "      <td>C</td>\n",
       "    </tr>\n",
       "  </tbody>\n",
       "</table>\n",
       "</div>"
      ],
      "text/plain": [
       "   SK_ID_BUREAU  MONTHS_BALANCE STATUS\n",
       "0       5715448               0      C\n",
       "1       5715448              -1      C\n",
       "2       5715448              -2      C\n",
       "3       5715448              -3      C\n",
       "4       5715448              -4      C"
      ]
     },
     "execution_count": 6,
     "metadata": {},
     "output_type": "execute_result"
    }
   ],
   "source": [
    "bureau_balance.head()"
   ]
  },
  {
   "cell_type": "markdown",
   "metadata": {},
   "source": [
    "* Let's look at the object values, since we would probably like to change them into integer type of data"
   ]
  },
  {
   "cell_type": "markdown",
   "metadata": {},
   "source": [
    "* First, bureau file:"
   ]
  },
  {
   "cell_type": "code",
   "execution_count": 7,
   "metadata": {},
   "outputs": [
    {
     "data": {
      "text/plain": [
       "Closed      1079273\n",
       "Active       630607\n",
       "Sold           6527\n",
       "Bad debt         21\n",
       "Name: CREDIT_ACTIVE, dtype: int64"
      ]
     },
     "execution_count": 7,
     "metadata": {},
     "output_type": "execute_result"
    }
   ],
   "source": [
    "bureau['CREDIT_ACTIVE'].value_counts()"
   ]
  },
  {
   "cell_type": "code",
   "execution_count": 8,
   "metadata": {},
   "outputs": [
    {
     "data": {
      "text/plain": [
       "currency 1    1715020\n",
       "currency 2       1224\n",
       "currency 3        174\n",
       "currency 4         10\n",
       "Name: CREDIT_CURRENCY, dtype: int64"
      ]
     },
     "execution_count": 8,
     "metadata": {},
     "output_type": "execute_result"
    }
   ],
   "source": [
    "bureau['CREDIT_CURRENCY'].value_counts()"
   ]
  },
  {
   "cell_type": "code",
   "execution_count": 9,
   "metadata": {},
   "outputs": [
    {
     "data": {
      "text/plain": [
       "Consumer credit                                 1251615\n",
       "Credit card                                      402195\n",
       "Car loan                                          27690\n",
       "Mortgage                                          18391\n",
       "Microloan                                         12413\n",
       "Loan for business development                      1975\n",
       "Another type of loan                               1017\n",
       "Unknown type of loan                                555\n",
       "Loan for working capital replenishment              469\n",
       "Cash loan (non-earmarked)                            56\n",
       "Real estate loan                                     27\n",
       "Loan for the purchase of equipment                   19\n",
       "Loan for purchase of shares (margin lending)          4\n",
       "Mobile operator loan                                  1\n",
       "Interbank credit                                      1\n",
       "Name: CREDIT_TYPE, dtype: int64"
      ]
     },
     "execution_count": 9,
     "metadata": {},
     "output_type": "execute_result"
    }
   ],
   "source": [
    "bureau['CREDIT_TYPE'].value_counts()"
   ]
  },
  {
   "cell_type": "markdown",
   "metadata": {},
   "source": [
    "* For the bureau file, we are going to drop CREDIT_CURRENCY and CREDIT_TYPE cols, since they probably don't provide any important information for the analysis, while for the CREDIT_ACTIVE column we can change Active cases into 1, and all other into 0's"
   ]
  },
  {
   "cell_type": "code",
   "execution_count": 10,
   "metadata": {},
   "outputs": [],
   "source": [
    "#bureau = bureau.drop(['CREDIT_TYPE'], axis=1)\n",
    "#bureau = bureau.drop(['CREDIT_CURRENCY'], axis=1)"
   ]
  },
  {
   "cell_type": "code",
   "execution_count": 11,
   "metadata": {},
   "outputs": [],
   "source": [
    "#bureau['CREDIT_ACTIVE'] = bureau['CREDIT_ACTIVE'].replace(to_replace='Active', value=1)\n",
    "#bureau['CREDIT_ACTIVE'] = bureau['CREDIT_ACTIVE'].replace(to_replace='Closed', value=0)\n",
    "#bureau['CREDIT_ACTIVE'] = bureau['CREDIT_ACTIVE'].replace(to_replace='Sold', value=0)\n",
    "#bureau['CREDIT_ACTIVE'] = bureau['CREDIT_ACTIVE'].replace(to_replace='Bad debt', value=0)"
   ]
  },
  {
   "cell_type": "markdown",
   "metadata": {},
   "source": [
    "* Let's look at the changes"
   ]
  },
  {
   "cell_type": "code",
   "execution_count": 12,
   "metadata": {},
   "outputs": [
    {
     "name": "stdout",
     "output_type": "stream",
     "text": [
      "<class 'pandas.core.frame.DataFrame'>\n",
      "RangeIndex: 1716428 entries, 0 to 1716427\n",
      "Data columns (total 17 columns):\n",
      " #   Column                  Dtype  \n",
      "---  ------                  -----  \n",
      " 0   SK_ID_CURR              int64  \n",
      " 1   SK_ID_BUREAU            int64  \n",
      " 2   CREDIT_ACTIVE           object \n",
      " 3   CREDIT_CURRENCY         object \n",
      " 4   DAYS_CREDIT             int64  \n",
      " 5   CREDIT_DAY_OVERDUE      int64  \n",
      " 6   DAYS_CREDIT_ENDDATE     float64\n",
      " 7   DAYS_ENDDATE_FACT       float64\n",
      " 8   AMT_CREDIT_MAX_OVERDUE  float64\n",
      " 9   CNT_CREDIT_PROLONG      int64  \n",
      " 10  AMT_CREDIT_SUM          float64\n",
      " 11  AMT_CREDIT_SUM_DEBT     float64\n",
      " 12  AMT_CREDIT_SUM_LIMIT    float64\n",
      " 13  AMT_CREDIT_SUM_OVERDUE  float64\n",
      " 14  CREDIT_TYPE             object \n",
      " 15  DAYS_CREDIT_UPDATE      int64  \n",
      " 16  AMT_ANNUITY             float64\n",
      "dtypes: float64(8), int64(6), object(3)\n",
      "memory usage: 222.6+ MB\n"
     ]
    }
   ],
   "source": [
    "bureau.info()"
   ]
  },
  {
   "cell_type": "code",
   "execution_count": 13,
   "metadata": {},
   "outputs": [
    {
     "data": {
      "text/plain": [
       "Closed      1079273\n",
       "Active       630607\n",
       "Sold           6527\n",
       "Bad debt         21\n",
       "Name: CREDIT_ACTIVE, dtype: int64"
      ]
     },
     "execution_count": 13,
     "metadata": {},
     "output_type": "execute_result"
    }
   ],
   "source": [
    "bureau['CREDIT_ACTIVE'].value_counts()"
   ]
  },
  {
   "cell_type": "markdown",
   "metadata": {},
   "source": [
    "* Now, it's time to clean up the bureau_balance file"
   ]
  },
  {
   "cell_type": "code",
   "execution_count": 14,
   "metadata": {},
   "outputs": [
    {
     "name": "stdout",
     "output_type": "stream",
     "text": [
      "<class 'pandas.core.frame.DataFrame'>\n",
      "RangeIndex: 27299925 entries, 0 to 27299924\n",
      "Data columns (total 3 columns):\n",
      " #   Column          Dtype \n",
      "---  ------          ----- \n",
      " 0   SK_ID_BUREAU    int64 \n",
      " 1   MONTHS_BALANCE  int64 \n",
      " 2   STATUS          object\n",
      "dtypes: int64(2), object(1)\n",
      "memory usage: 624.8+ MB\n"
     ]
    }
   ],
   "source": [
    "bureau_balance.info()"
   ]
  },
  {
   "cell_type": "markdown",
   "metadata": {},
   "source": [
    "* Let's look at the STATUS field, since it's an object"
   ]
  },
  {
   "cell_type": "code",
   "execution_count": 15,
   "metadata": {},
   "outputs": [
    {
     "data": {
      "text/plain": [
       "C    13646993\n",
       "0     7499507\n",
       "X     5810482\n",
       "1      242347\n",
       "5       62406\n",
       "2       23419\n",
       "3        8924\n",
       "4        5847\n",
       "Name: STATUS, dtype: int64"
      ]
     },
     "execution_count": 15,
     "metadata": {},
     "output_type": "execute_result"
    }
   ],
   "source": [
    "bureau_balance['STATUS'].value_counts()"
   ]
  },
  {
   "cell_type": "markdown",
   "metadata": {},
   "source": [
    "* I don't know, what these things are meant to mean, but it should probably be ok to deal with them by using One Hot Encoding - we will do that in the future"
   ]
  },
  {
   "cell_type": "markdown",
   "metadata": {},
   "source": [
    "* Let's handle the missing values!"
   ]
  },
  {
   "cell_type": "code",
   "execution_count": 16,
   "metadata": {},
   "outputs": [
    {
     "data": {
      "text/plain": [
       "SK_ID_CURR                      0\n",
       "SK_ID_BUREAU                    0\n",
       "CREDIT_ACTIVE                   0\n",
       "CREDIT_CURRENCY                 0\n",
       "DAYS_CREDIT                     0\n",
       "CREDIT_DAY_OVERDUE              0\n",
       "DAYS_CREDIT_ENDDATE        105553\n",
       "DAYS_ENDDATE_FACT          633653\n",
       "AMT_CREDIT_MAX_OVERDUE    1124488\n",
       "CNT_CREDIT_PROLONG              0\n",
       "AMT_CREDIT_SUM                 13\n",
       "AMT_CREDIT_SUM_DEBT        257669\n",
       "AMT_CREDIT_SUM_LIMIT       591780\n",
       "AMT_CREDIT_SUM_OVERDUE          0\n",
       "CREDIT_TYPE                     0\n",
       "DAYS_CREDIT_UPDATE              0\n",
       "AMT_ANNUITY               1226791\n",
       "dtype: int64"
      ]
     },
     "execution_count": 16,
     "metadata": {},
     "output_type": "execute_result"
    }
   ],
   "source": [
    "bureau.isnull().sum()"
   ]
  },
  {
   "cell_type": "markdown",
   "metadata": {},
   "source": [
    "* I'm going to simply replace the NaN values with zeros"
   ]
  },
  {
   "cell_type": "code",
   "execution_count": 17,
   "metadata": {},
   "outputs": [],
   "source": [
    "#bureau['DAYS_CREDIT_ENDDATE'].replace(np.nan, 0, inplace=True)\n",
    "#bureau['DAYS_ENDDATE_FACT'].replace(np.nan, 0, inplace=True)\n",
    "#bureau['AMT_CREDIT_MAX_OVERDUE'].replace(np.nan, 0, inplace=True)\n",
    "#bureau['AMT_CREDIT_SUM'].replace(np.nan, 0, inplace=True)\n",
    "#bureau['AMT_CREDIT_SUM_DEBT'].replace(np.nan, 0, inplace=True)\n",
    "#bureau['AMT_CREDIT_SUM_LIMIT'].replace(np.nan, 0, inplace=True)\n",
    "#bureau['AMT_ANNUITY'].replace(np.nan, 0, inplace=True)\n",
    "\n",
    "from Functions.DataPreperation import fill_missing_values\n",
    "\n",
    "fill_missing_values(bureau, mean = False)"
   ]
  },
  {
   "cell_type": "code",
   "execution_count": 18,
   "metadata": {},
   "outputs": [
    {
     "data": {
      "text/plain": [
       "SK_ID_CURR                0\n",
       "SK_ID_BUREAU              0\n",
       "CREDIT_ACTIVE             0\n",
       "CREDIT_CURRENCY           0\n",
       "DAYS_CREDIT               0\n",
       "CREDIT_DAY_OVERDUE        0\n",
       "DAYS_CREDIT_ENDDATE       0\n",
       "DAYS_ENDDATE_FACT         0\n",
       "AMT_CREDIT_MAX_OVERDUE    0\n",
       "CNT_CREDIT_PROLONG        0\n",
       "AMT_CREDIT_SUM            0\n",
       "AMT_CREDIT_SUM_DEBT       0\n",
       "AMT_CREDIT_SUM_LIMIT      0\n",
       "AMT_CREDIT_SUM_OVERDUE    0\n",
       "CREDIT_TYPE               0\n",
       "DAYS_CREDIT_UPDATE        0\n",
       "AMT_ANNUITY               0\n",
       "dtype: int64"
      ]
     },
     "execution_count": 18,
     "metadata": {},
     "output_type": "execute_result"
    }
   ],
   "source": [
    "bureau.isnull().sum()"
   ]
  },
  {
   "cell_type": "markdown",
   "metadata": {},
   "source": [
    "* Very nice"
   ]
  },
  {
   "cell_type": "markdown",
   "metadata": {},
   "source": [
    "* Now, it's time to check bureau_balance!"
   ]
  },
  {
   "cell_type": "code",
   "execution_count": 19,
   "metadata": {},
   "outputs": [
    {
     "data": {
      "text/plain": [
       "SK_ID_BUREAU      0\n",
       "MONTHS_BALANCE    0\n",
       "STATUS            0\n",
       "dtype: int64"
      ]
     },
     "execution_count": 19,
     "metadata": {},
     "output_type": "execute_result"
    }
   ],
   "source": [
    "bureau_balance.isnull().sum()"
   ]
  },
  {
   "cell_type": "markdown",
   "metadata": {},
   "source": [
    "* No work to be done here!"
   ]
  },
  {
   "cell_type": "markdown",
   "metadata": {},
   "source": [
    "* Let's check, if there are any duplicates!"
   ]
  },
  {
   "cell_type": "code",
   "execution_count": 20,
   "metadata": {},
   "outputs": [
    {
     "name": "stdout",
     "output_type": "stream",
     "text": [
      "0\n"
     ]
    }
   ],
   "source": [
    "duplicates = bureau.duplicated()\n",
    "print(duplicates.sum())"
   ]
  },
  {
   "cell_type": "code",
   "execution_count": 21,
   "metadata": {},
   "outputs": [
    {
     "name": "stdout",
     "output_type": "stream",
     "text": [
      "0\n"
     ]
    }
   ],
   "source": [
    "duplicates = bureau_balance.duplicated()\n",
    "print(duplicates.sum())"
   ]
  },
  {
   "cell_type": "markdown",
   "metadata": {},
   "source": [
    "* There are no duplicates!"
   ]
  },
  {
   "cell_type": "markdown",
   "metadata": {},
   "source": [
    "* Now, let's look at the possible correlations between these two files and the application_train.csv"
   ]
  },
  {
   "cell_type": "code",
   "execution_count": 22,
   "metadata": {},
   "outputs": [],
   "source": [
    "app = pd.read_csv('../data/application_train.csv')"
   ]
  },
  {
   "cell_type": "code",
   "execution_count": 23,
   "metadata": {},
   "outputs": [
    {
     "data": {
      "text/plain": [
       "(307511, 122)"
      ]
     },
     "execution_count": 23,
     "metadata": {},
     "output_type": "execute_result"
    }
   ],
   "source": [
    "app.shape"
   ]
  },
  {
   "cell_type": "markdown",
   "metadata": {},
   "source": [
    "* First, let's analyse the bureau file"
   ]
  },
  {
   "cell_type": "code",
   "execution_count": 24,
   "metadata": {},
   "outputs": [],
   "source": [
    "bureau['TARGET'] = app['TARGET']"
   ]
  },
  {
   "cell_type": "code",
   "execution_count": 25,
   "metadata": {},
   "outputs": [
    {
     "data": {
      "text/plain": [
       "SK_ID_CURR                      0\n",
       "SK_ID_BUREAU                    0\n",
       "CREDIT_ACTIVE                   0\n",
       "CREDIT_CURRENCY                 0\n",
       "DAYS_CREDIT                     0\n",
       "CREDIT_DAY_OVERDUE              0\n",
       "DAYS_CREDIT_ENDDATE             0\n",
       "DAYS_ENDDATE_FACT               0\n",
       "AMT_CREDIT_MAX_OVERDUE          0\n",
       "CNT_CREDIT_PROLONG              0\n",
       "AMT_CREDIT_SUM                  0\n",
       "AMT_CREDIT_SUM_DEBT             0\n",
       "AMT_CREDIT_SUM_LIMIT            0\n",
       "AMT_CREDIT_SUM_OVERDUE          0\n",
       "CREDIT_TYPE                     0\n",
       "DAYS_CREDIT_UPDATE              0\n",
       "AMT_ANNUITY                     0\n",
       "TARGET                    1408917\n",
       "dtype: int64"
      ]
     },
     "execution_count": 25,
     "metadata": {},
     "output_type": "execute_result"
    }
   ],
   "source": [
    "bureau.isnull().sum()"
   ]
  },
  {
   "cell_type": "code",
   "execution_count": 26,
   "metadata": {},
   "outputs": [],
   "source": [
    "bureau = bureau[bureau['TARGET'].notna()]"
   ]
  },
  {
   "cell_type": "code",
   "execution_count": 27,
   "metadata": {},
   "outputs": [
    {
     "data": {
      "text/plain": [
       "SK_ID_CURR                0\n",
       "SK_ID_BUREAU              0\n",
       "CREDIT_ACTIVE             0\n",
       "CREDIT_CURRENCY           0\n",
       "DAYS_CREDIT               0\n",
       "CREDIT_DAY_OVERDUE        0\n",
       "DAYS_CREDIT_ENDDATE       0\n",
       "DAYS_ENDDATE_FACT         0\n",
       "AMT_CREDIT_MAX_OVERDUE    0\n",
       "CNT_CREDIT_PROLONG        0\n",
       "AMT_CREDIT_SUM            0\n",
       "AMT_CREDIT_SUM_DEBT       0\n",
       "AMT_CREDIT_SUM_LIMIT      0\n",
       "AMT_CREDIT_SUM_OVERDUE    0\n",
       "CREDIT_TYPE               0\n",
       "DAYS_CREDIT_UPDATE        0\n",
       "AMT_ANNUITY               0\n",
       "TARGET                    0\n",
       "dtype: int64"
      ]
     },
     "execution_count": 27,
     "metadata": {},
     "output_type": "execute_result"
    }
   ],
   "source": [
    "bureau.isnull().sum()"
   ]
  },
  {
   "cell_type": "code",
   "execution_count": 28,
   "metadata": {},
   "outputs": [
    {
     "name": "stdout",
     "output_type": "stream",
     "text": [
      "Max correlations: \n",
      " CNT_CREDIT_PROLONG       -0.000495\n",
      "AMT_ANNUITY              -0.000261\n",
      "AMT_CREDIT_MAX_OVERDUE   -0.000214\n",
      "AMT_CREDIT_SUM            0.000219\n",
      "DAYS_ENDDATE_FACT         0.001358\n",
      "DAYS_CREDIT               0.001443\n",
      "SK_ID_BUREAU              0.001550\n",
      "DAYS_CREDIT_ENDDATE       0.001995\n",
      "DAYS_CREDIT_UPDATE        0.002159\n",
      "TARGET                    1.000000\n",
      "Name: TARGET, dtype: float64\n",
      "Min correlations: \n",
      " CREDIT_DAY_OVERDUE       -0.001815\n",
      "AMT_CREDIT_SUM_OVERDUE   -0.001464\n",
      "SK_ID_CURR               -0.001070\n",
      "AMT_CREDIT_SUM_DEBT      -0.000980\n",
      "AMT_CREDIT_SUM_LIMIT     -0.000500\n",
      "CNT_CREDIT_PROLONG       -0.000495\n",
      "AMT_ANNUITY              -0.000261\n",
      "AMT_CREDIT_MAX_OVERDUE   -0.000214\n",
      "AMT_CREDIT_SUM            0.000219\n",
      "DAYS_ENDDATE_FACT         0.001358\n",
      "Name: TARGET, dtype: float64\n"
     ]
    }
   ],
   "source": [
    "bur_correlations = bureau.corr()['TARGET'].sort_values()\n",
    "\n",
    "print('Max correlations: \\n', bur_correlations.tail(10))\n",
    "print('Min correlations: \\n', bur_correlations.head(10))"
   ]
  },
  {
   "cell_type": "markdown",
   "metadata": {},
   "source": [
    "* The correlations are bad"
   ]
  },
  {
   "cell_type": "markdown",
   "metadata": {},
   "source": [
    "* Now, let's look at the bureau_balance"
   ]
  },
  {
   "cell_type": "code",
   "execution_count": 29,
   "metadata": {},
   "outputs": [],
   "source": [
    "bureau_balance['TARGET'] = app['TARGET']"
   ]
  },
  {
   "cell_type": "code",
   "execution_count": 30,
   "metadata": {},
   "outputs": [
    {
     "data": {
      "text/plain": [
       "SK_ID_BUREAU             0\n",
       "MONTHS_BALANCE           0\n",
       "STATUS                   0\n",
       "TARGET            26992414\n",
       "dtype: int64"
      ]
     },
     "execution_count": 30,
     "metadata": {},
     "output_type": "execute_result"
    }
   ],
   "source": [
    "bureau_balance.isnull().sum()"
   ]
  },
  {
   "cell_type": "code",
   "execution_count": 31,
   "metadata": {},
   "outputs": [],
   "source": [
    "bureau_balance = bureau_balance[bureau_balance['TARGET'].notna()]"
   ]
  },
  {
   "cell_type": "code",
   "execution_count": 32,
   "metadata": {},
   "outputs": [
    {
     "data": {
      "text/plain": [
       "SK_ID_BUREAU      0\n",
       "MONTHS_BALANCE    0\n",
       "STATUS            0\n",
       "TARGET            0\n",
       "dtype: int64"
      ]
     },
     "execution_count": 32,
     "metadata": {},
     "output_type": "execute_result"
    }
   ],
   "source": [
    "bureau_balance.isnull().sum()"
   ]
  },
  {
   "cell_type": "code",
   "execution_count": 34,
   "metadata": {},
   "outputs": [
    {
     "ename": "ValueError",
     "evalue": "DataFrame constructor not properly called!",
     "output_type": "error",
     "traceback": [
      "\u001b[1;31m---------------------------------------------------------------------------\u001b[0m",
      "\u001b[1;31mValueError\u001b[0m                                Traceback (most recent call last)",
      "\u001b[1;32m<ipython-input-34-c2ea3f725510>\u001b[0m in \u001b[0;36m<module>\u001b[1;34m\u001b[0m\n\u001b[0;32m      1\u001b[0m \u001b[0mbur_bal_correlations\u001b[0m \u001b[1;33m=\u001b[0m \u001b[0mbureau_balance\u001b[0m\u001b[1;33m.\u001b[0m\u001b[0mcorr\u001b[0m\u001b[1;33m(\u001b[0m\u001b[1;33m)\u001b[0m\u001b[1;33m[\u001b[0m\u001b[1;34m'TARGET'\u001b[0m\u001b[1;33m]\u001b[0m\u001b[1;33m.\u001b[0m\u001b[0msort_values\u001b[0m\u001b[1;33m(\u001b[0m\u001b[1;33m)\u001b[0m\u001b[1;33m\u001b[0m\u001b[1;33m\u001b[0m\u001b[0m\n\u001b[1;32m----> 2\u001b[1;33m \u001b[0mcorrs\u001b[0m \u001b[1;33m=\u001b[0m \u001b[0mpd\u001b[0m\u001b[1;33m.\u001b[0m\u001b[0mDataFrame\u001b[0m\u001b[1;33m(\u001b[0m\u001b[0mbur_bal_correlations\u001b[0m\u001b[1;33m[\u001b[0m\u001b[1;34m'TARGET'\u001b[0m\u001b[1;33m]\u001b[0m\u001b[1;33m)\u001b[0m\u001b[1;33m\u001b[0m\u001b[1;33m\u001b[0m\u001b[0m\n\u001b[0m\u001b[0;32m      3\u001b[0m \u001b[1;33m\u001b[0m\u001b[0m\n\u001b[0;32m      4\u001b[0m \u001b[0mprint\u001b[0m\u001b[1;33m(\u001b[0m\u001b[1;34m'Max correlations: \\n'\u001b[0m\u001b[1;33m,\u001b[0m \u001b[0mcorrs\u001b[0m\u001b[1;33m.\u001b[0m\u001b[0mtail\u001b[0m\u001b[1;33m(\u001b[0m\u001b[1;36m10\u001b[0m\u001b[1;33m)\u001b[0m\u001b[1;33m)\u001b[0m\u001b[1;33m\u001b[0m\u001b[1;33m\u001b[0m\u001b[0m\n\u001b[0;32m      5\u001b[0m \u001b[0mprint\u001b[0m\u001b[1;33m(\u001b[0m\u001b[1;34m'Min correlations: \\n'\u001b[0m\u001b[1;33m,\u001b[0m \u001b[0mbur_bal_correlations\u001b[0m\u001b[1;33m.\u001b[0m\u001b[0mhead\u001b[0m\u001b[1;33m(\u001b[0m\u001b[1;36m10\u001b[0m\u001b[1;33m)\u001b[0m\u001b[1;33m)\u001b[0m\u001b[1;33m\u001b[0m\u001b[1;33m\u001b[0m\u001b[0m\n",
      "\u001b[1;32mc:\\python\\python38\\lib\\site-packages\\pandas\\core\\frame.py\u001b[0m in \u001b[0;36m__init__\u001b[1;34m(self, data, index, columns, dtype, copy)\u001b[0m\n\u001b[0;32m    527\u001b[0m         \u001b[1;32melse\u001b[0m\u001b[1;33m:\u001b[0m\u001b[1;33m\u001b[0m\u001b[1;33m\u001b[0m\u001b[0m\n\u001b[0;32m    528\u001b[0m             \u001b[1;32mif\u001b[0m \u001b[0mindex\u001b[0m \u001b[1;32mis\u001b[0m \u001b[1;32mNone\u001b[0m \u001b[1;32mor\u001b[0m \u001b[0mcolumns\u001b[0m \u001b[1;32mis\u001b[0m \u001b[1;32mNone\u001b[0m\u001b[1;33m:\u001b[0m\u001b[1;33m\u001b[0m\u001b[1;33m\u001b[0m\u001b[0m\n\u001b[1;32m--> 529\u001b[1;33m                 \u001b[1;32mraise\u001b[0m \u001b[0mValueError\u001b[0m\u001b[1;33m(\u001b[0m\u001b[1;34m\"DataFrame constructor not properly called!\"\u001b[0m\u001b[1;33m)\u001b[0m\u001b[1;33m\u001b[0m\u001b[1;33m\u001b[0m\u001b[0m\n\u001b[0m\u001b[0;32m    530\u001b[0m \u001b[1;33m\u001b[0m\u001b[0m\n\u001b[0;32m    531\u001b[0m             \u001b[1;32mif\u001b[0m \u001b[1;32mnot\u001b[0m \u001b[0mdtype\u001b[0m\u001b[1;33m:\u001b[0m\u001b[1;33m\u001b[0m\u001b[1;33m\u001b[0m\u001b[0m\n",
      "\u001b[1;31mValueError\u001b[0m: DataFrame constructor not properly called!"
     ]
    }
   ],
   "source": [
    "bur_bal_correlations = bureau_balance.corr()['TARGET'].sort_values()\n",
    "\n",
    "print('Max correlations: \\n', bur_bal_correlations.tail(10))\n",
    "print('Min correlations: \\n', bur_bal_correlations.head(10))"
   ]
  },
  {
   "cell_type": "markdown",
   "metadata": {},
   "source": [
    "* Here, the correlations are really bad as well!"
   ]
  },
  {
   "cell_type": "markdown",
   "metadata": {},
   "source": [
    "# Conclusion"
   ]
  },
  {
   "cell_type": "markdown",
   "metadata": {},
   "source": [
    "* When it comes to both files, the correlations are really low, the files in current state are useless for the further analysis, and can make more harm than good to our model "
   ]
  },
  {
   "cell_type": "markdown",
   "metadata": {},
   "source": [
    "* What may be good to do is to implement One Hot Encoding for bureau_balance, and maybe try to join both files, as well as try different type of feature engineering, drop some columns which seem to be useless, and try to fill the NaN values with median instead"
   ]
  },
  {
   "cell_type": "code",
   "execution_count": null,
   "metadata": {},
   "outputs": [],
   "source": [
    "from Functions.FeatureEngineering import *\n",
    "\n",
    "bureau_numeric = group_numeric_values(bureau, 'bureau')\n",
    "bureau_object = group_object_values(bureau, 'bureau')\n",
    "bureau_balance_numeric = group_numeric_values(bureau_balance, 'bureau_balance', 'SK_ID_BUREAU')\n",
    "bureau_balance_object = group_object_values(bureau_balance, 'bureau_balance', 'SK_ID_BUREAU')"
   ]
  },
  {
   "cell_type": "code",
   "execution_count": null,
   "metadata": {},
   "outputs": [],
   "source": [
    "bureau_numeric.head(5)"
   ]
  },
  {
   "cell_type": "code",
   "execution_count": null,
   "metadata": {},
   "outputs": [],
   "source": [
    "bureau_object.head(5)"
   ]
  },
  {
   "cell_type": "code",
   "execution_count": null,
   "metadata": {},
   "outputs": [],
   "source": [
    "bureau_balance_numeric.head(5)"
   ]
  },
  {
   "cell_type": "code",
   "execution_count": null,
   "metadata": {},
   "outputs": [],
   "source": [
    "bureau_balance_object.head(5)"
   ]
  },
  {
   "cell_type": "code",
   "execution_count": null,
   "metadata": {},
   "outputs": [],
   "source": [
    "bureau_curr = bureau_numeric.merge(bureau_object, on = 'SK_ID_CURR', how = 'left')"
   ]
  },
  {
   "cell_type": "code",
   "execution_count": null,
   "metadata": {},
   "outputs": [],
   "source": [
    "bureau_curr.shape"
   ]
  },
  {
   "cell_type": "code",
   "execution_count": null,
   "metadata": {},
   "outputs": [],
   "source": [
    "bureau_curr.head(5)"
   ]
  },
  {
   "cell_type": "code",
   "execution_count": null,
   "metadata": {},
   "outputs": [],
   "source": [
    "test = pd.read_csv('./train.csv')\n",
    "\n",
    "test = test.merge(bureau_curr, on = 'SK_ID_CURR', how = 'left')"
   ]
  },
  {
   "cell_type": "code",
   "execution_count": null,
   "metadata": {},
   "outputs": [],
   "source": [
    "test.shape"
   ]
  },
  {
   "cell_type": "code",
   "execution_count": null,
   "metadata": {},
   "outputs": [],
   "source": [
    "test.head(5)\n"
   ]
  },
  {
   "cell_type": "code",
   "execution_count": null,
   "metadata": {},
   "outputs": [],
   "source": [
    "corrs = test.corr()\n",
    "corrs = corrs.sort_values('TARGET', ascending = False)\n",
    "\n",
    "pd.DataFrame(corrs['TARGET'].head(10))"
   ]
  },
  {
   "cell_type": "code",
   "execution_count": null,
   "metadata": {},
   "outputs": [],
   "source": [
    "print(data_correlation(test, bureau_curr).head(10))"
   ]
  },
  {
   "cell_type": "code",
   "execution_count": null,
   "metadata": {},
   "outputs": [],
   "source": []
  }
 ],
 "metadata": {
  "kernelspec": {
   "display_name": "Python 3",
   "language": "python",
   "name": "python3"
  },
  "language_info": {
   "codemirror_mode": {
    "name": "ipython",
    "version": 3
   },
   "file_extension": ".py",
   "mimetype": "text/x-python",
   "name": "python",
   "nbconvert_exporter": "python",
   "pygments_lexer": "ipython3",
   "version": "3.8.6"
  }
 },
 "nbformat": 4,
 "nbformat_minor": 4
}
